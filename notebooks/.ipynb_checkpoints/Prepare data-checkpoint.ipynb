{
 "cells": [
  {
   "cell_type": "code",
   "execution_count": 2,
   "metadata": {},
   "outputs": [
    {
     "name": "stderr",
     "output_type": "stream",
     "text": [
      "\n",
      "Attaching package: 'dplyr'\n",
      "\n",
      "The following objects are masked from 'package:stats':\n",
      "\n",
      "    filter, lag\n",
      "\n",
      "The following objects are masked from 'package:base':\n",
      "\n",
      "    intersect, setdiff, setequal, union\n",
      "\n",
      "\n",
      "Attaching package: 'lubridate'\n",
      "\n",
      "The following object is masked from 'package:base':\n",
      "\n",
      "    date\n",
      "\n",
      "Loading required package: broom\n",
      "\n",
      "Attaching package: 'recipes'\n",
      "\n",
      "The following object is masked from 'package:stats':\n",
      "\n",
      "    step\n",
      "\n",
      "\n",
      "Attaching package: 'xgboost'\n",
      "\n",
      "The following object is masked from 'package:dplyr':\n",
      "\n",
      "    slice\n",
      "\n"
     ]
    }
   ],
   "source": [
    "library(tidyr)\n",
    "library(dplyr)\n",
    "library(lubridate)\n",
    "library(recipes)\n",
    "library(xgboost)\n",
    "library(rBayesianOptimization)"
   ]
  },
  {
   "cell_type": "markdown",
   "metadata": {},
   "source": [
    "### Explore the dataset to identify any potential anomalies."
   ]
  },
  {
   "cell_type": "markdown",
   "metadata": {},
   "source": [
    "Read the file into a data frame and remove all rows containing NA values. Also remove CustomerID, as we cannot learn anything from it."
   ]
  },
  {
   "cell_type": "code",
   "execution_count": 20,
   "metadata": {},
   "outputs": [],
   "source": [
    "x <- read.csv(\"../data/cust_churn.csv\", fileEncoding = \"UTF-8-BOM\", stringsAsFactors = F)"
   ]
  },
  {
   "cell_type": "code",
   "execution_count": 21,
   "metadata": {},
   "outputs": [
    {
     "name": "stdout",
     "output_type": "stream",
     "text": [
      "Observations: 7,043\n",
      "Variables: 21\n",
      "$ customerID       <chr> \"7590-VHVEG\", \"5575-GNVDE\", \"3668-QPYBK\", \"7795-CF...\n",
      "$ gender           <chr> \"Female\", \"Male\", \"Male\", \"Male\", \"Female\", \"Femal...\n",
      "$ SeniorCitizen    <int> 0, 0, 0, 0, 0, 0, 0, 0, 0, 0, 0, 0, 0, 0, 0, 0, 0,...\n",
      "$ Partner          <chr> \"Yes\", \"No\", \"No\", \"No\", \"No\", \"No\", \"No\", \"No\", \"...\n",
      "$ Dependents       <chr> \"No\", \"No\", \"No\", \"No\", \"No\", \"No\", \"Yes\", \"No\", \"...\n",
      "$ tenure           <int> 1, 34, 2, 45, 2, 8, 22, 10, 28, 62, 13, 16, 58, 49...\n",
      "$ PhoneService     <chr> \"No\", \"Yes\", \"Yes\", \"No\", \"Yes\", \"Yes\", \"Yes\", \"No...\n",
      "$ MultipleLines    <chr> \"No phone service\", \"No\", \"No\", \"No phone service\"...\n",
      "$ InternetService  <chr> \"DSL\", \"DSL\", \"DSL\", \"DSL\", \"Fiber optic\", \"Fiber ...\n",
      "$ OnlineSecurity   <chr> \"No\", \"Yes\", \"Yes\", \"Yes\", \"No\", \"No\", \"No\", \"Yes\"...\n",
      "$ OnlineBackup     <chr> \"Yes\", \"No\", \"Yes\", \"No\", \"No\", \"No\", \"Yes\", \"No\",...\n",
      "$ DeviceProtection <chr> \"No\", \"Yes\", \"No\", \"Yes\", \"No\", \"Yes\", \"No\", \"No\",...\n",
      "$ TechSupport      <chr> \"No\", \"No\", \"No\", \"Yes\", \"No\", \"No\", \"No\", \"No\", \"...\n",
      "$ StreamingTV      <chr> \"No\", \"No\", \"No\", \"No\", \"No\", \"Yes\", \"Yes\", \"No\", ...\n",
      "$ StreamingMovies  <chr> \"No\", \"No\", \"No\", \"No\", \"No\", \"Yes\", \"No\", \"No\", \"...\n",
      "$ Contract         <chr> \"Month-to-month\", \"One year\", \"Month-to-month\", \"O...\n",
      "$ PaperlessBilling <chr> \"Yes\", \"No\", \"Yes\", \"No\", \"Yes\", \"Yes\", \"Yes\", \"No...\n",
      "$ PaymentMethod    <chr> \"Electronic check\", \"Mailed check\", \"Mailed check\"...\n",
      "$ MonthlyCharges   <dbl> 29.85, 56.95, 53.85, 42.30, 70.70, 99.65, 89.10, 2...\n",
      "$ TotalCharges     <dbl> 29.85, 1889.50, 108.15, 1840.75, 151.65, 820.50, 1...\n",
      "$ Churn            <chr> \"No\", \"No\", \"Yes\", \"No\", \"Yes\", \"Yes\", \"No\", \"No\",...\n"
     ]
    }
   ],
   "source": [
    "glimpse(x)"
   ]
  },
  {
   "cell_type": "code",
   "execution_count": 3,
   "metadata": {},
   "outputs": [],
   "source": [
    "df_data <- read.csv(\"../data/cust_churn.csv\", fileEncoding = \"UTF-8-BOM\", stringsAsFactors = F) %>% na.omit() %>% select(-customerID) %>% mutate(Churn = as.numeric(Churn == \"Yes\"))"
   ]
  },
  {
   "cell_type": "code",
   "execution_count": 4,
   "metadata": {},
   "outputs": [
    {
     "name": "stdout",
     "output_type": "stream",
     "text": [
      "Observations: 7,032\n",
      "Variables: 20\n",
      "$ gender           <chr> \"Female\", \"Male\", \"Male\", \"Male\", \"Female\", \"Femal...\n",
      "$ SeniorCitizen    <int> 0, 0, 0, 0, 0, 0, 0, 0, 0, 0, 0, 0, 0, 0, 0, 0, 0,...\n",
      "$ Partner          <chr> \"Yes\", \"No\", \"No\", \"No\", \"No\", \"No\", \"No\", \"No\", \"...\n",
      "$ Dependents       <chr> \"No\", \"No\", \"No\", \"No\", \"No\", \"No\", \"Yes\", \"No\", \"...\n",
      "$ tenure           <int> 1, 34, 2, 45, 2, 8, 22, 10, 28, 62, 13, 16, 58, 49...\n",
      "$ PhoneService     <chr> \"No\", \"Yes\", \"Yes\", \"No\", \"Yes\", \"Yes\", \"Yes\", \"No...\n",
      "$ MultipleLines    <chr> \"No phone service\", \"No\", \"No\", \"No phone service\"...\n",
      "$ InternetService  <chr> \"DSL\", \"DSL\", \"DSL\", \"DSL\", \"Fiber optic\", \"Fiber ...\n",
      "$ OnlineSecurity   <chr> \"No\", \"Yes\", \"Yes\", \"Yes\", \"No\", \"No\", \"No\", \"Yes\"...\n",
      "$ OnlineBackup     <chr> \"Yes\", \"No\", \"Yes\", \"No\", \"No\", \"No\", \"Yes\", \"No\",...\n",
      "$ DeviceProtection <chr> \"No\", \"Yes\", \"No\", \"Yes\", \"No\", \"Yes\", \"No\", \"No\",...\n",
      "$ TechSupport      <chr> \"No\", \"No\", \"No\", \"Yes\", \"No\", \"No\", \"No\", \"No\", \"...\n",
      "$ StreamingTV      <chr> \"No\", \"No\", \"No\", \"No\", \"No\", \"Yes\", \"Yes\", \"No\", ...\n",
      "$ StreamingMovies  <chr> \"No\", \"No\", \"No\", \"No\", \"No\", \"Yes\", \"No\", \"No\", \"...\n",
      "$ Contract         <chr> \"Month-to-month\", \"One year\", \"Month-to-month\", \"O...\n",
      "$ PaperlessBilling <chr> \"Yes\", \"No\", \"Yes\", \"No\", \"Yes\", \"Yes\", \"Yes\", \"No...\n",
      "$ PaymentMethod    <chr> \"Electronic check\", \"Mailed check\", \"Mailed check\"...\n",
      "$ MonthlyCharges   <dbl> 29.85, 56.95, 53.85, 42.30, 70.70, 99.65, 89.10, 2...\n",
      "$ TotalCharges     <dbl> 29.85, 1889.50, 108.15, 1840.75, 151.65, 820.50, 1...\n",
      "$ Churn            <dbl> 0, 0, 1, 0, 1, 1, 0, 0, 1, 0, 0, 0, 0, 1, 0, 0, 0,...\n"
     ]
    }
   ],
   "source": [
    "glimpse(df_data)"
   ]
  },
  {
   "cell_type": "markdown",
   "metadata": {},
   "source": [
    "If any of the categorical variables are distributed disproportionately, it could affect the usefulness of the variable. We would like to see a distribution in the sample\n",
    "that closely resembles the population."
   ]
  },
  {
   "cell_type": "code",
   "execution_count": 44,
   "metadata": {},
   "outputs": [
    {
     "data": {
      "text/plain": [
       "\n",
       "Female   Male \n",
       "  3483   3549 "
      ]
     },
     "metadata": {},
     "output_type": "display_data"
    }
   ],
   "source": [
    "table(df_data$gender)"
   ]
  },
  {
   "cell_type": "code",
   "execution_count": 49,
   "metadata": {},
   "outputs": [
    {
     "name": "stdout",
     "output_type": "stream",
     "text": [
      "[1] \"gender\"\n",
      "\n",
      "Female   Male \n",
      "  3483   3549 \n",
      "[1] \"Partner\"\n",
      "\n",
      "  No  Yes \n",
      "3639 3393 \n",
      "[1] \"Dependents\"\n",
      "\n",
      "  No  Yes \n",
      "4933 2099 \n",
      "[1] \"PhoneService\"\n",
      "\n",
      "  No  Yes \n",
      " 680 6352 \n",
      "[1] \"MultipleLines\"\n",
      "\n",
      "              No No phone service              Yes \n",
      "            3385              680             2967 \n",
      "[1] \"InternetService\"\n",
      "\n",
      "        DSL Fiber optic          No \n",
      "       2416        3096        1520 \n",
      "[1] \"OnlineSecurity\"\n",
      "\n",
      "                 No No internet service                 Yes \n",
      "               3497                1520                2015 \n",
      "[1] \"OnlineBackup\"\n",
      "\n",
      "                 No No internet service                 Yes \n",
      "               3087                1520                2425 \n",
      "[1] \"DeviceProtection\"\n",
      "\n",
      "                 No No internet service                 Yes \n",
      "               3094                1520                2418 \n",
      "[1] \"TechSupport\"\n",
      "\n",
      "                 No No internet service                 Yes \n",
      "               3472                1520                2040 \n",
      "[1] \"StreamingTV\"\n",
      "\n",
      "                 No No internet service                 Yes \n",
      "               2809                1520                2703 \n",
      "[1] \"StreamingMovies\"\n",
      "\n",
      "                 No No internet service                 Yes \n",
      "               2781                1520                2731 \n",
      "[1] \"Contract\"\n",
      "\n",
      "Month-to-month       One year       Two year \n",
      "          3875           1472           1685 \n",
      "[1] \"PaperlessBilling\"\n",
      "\n",
      "  No  Yes \n",
      "2864 4168 \n",
      "[1] \"PaymentMethod\"\n",
      "\n",
      "Bank transfer (automatic)   Credit card (automatic)          Electronic check \n",
      "                     1542                      1521                      2365 \n",
      "             Mailed check \n",
      "                     1604 \n",
      "[1] \"Churn\"\n",
      "\n",
      "  No  Yes \n",
      "5163 1869 \n"
     ]
    }
   ],
   "source": [
    "for(c in colnames(df_data)) \n",
    "{\n",
    "    if(class(df_data[,c]) == \"character\") {\n",
    "        paste(print(c),print(table(df_data[,c])))\n",
    "    }\n",
    "}"
   ]
  },
  {
   "cell_type": "markdown",
   "metadata": {},
   "source": [
    "The categorical data appears to be suitably distributed for an analysis."
   ]
  },
  {
   "cell_type": "markdown",
   "metadata": {},
   "source": [
    "## Discretize the numeric variables so model coefficients are on the same scale.\n",
    "The *smbinning* package performs recursive partitioning on the numeric variables using WOE and IV as metrics."
   ]
  },
  {
   "cell_type": "code",
   "execution_count": 5,
   "metadata": {},
   "outputs": [
    {
     "name": "stderr",
     "output_type": "stream",
     "text": [
      "Loading required package: sqldf\n",
      "Loading required package: gsubfn\n",
      "Loading required package: proto\n",
      "Loading required package: RSQLite\n",
      "Loading required package: partykit\n",
      "Loading required package: grid\n",
      "Loading required package: libcoin\n",
      "Loading required package: mvtnorm\n",
      "Loading required package: Formula\n"
     ]
    }
   ],
   "source": [
    "#install.packages(\"smbinning\")\n",
    "library(smbinning)"
   ]
  },
  {
   "cell_type": "code",
   "execution_count": 6,
   "metadata": {},
   "outputs": [
    {
     "data": {
      "text/html": [
       "<table>\n",
       "<thead><tr><th scope=col>Cutpoint</th><th scope=col>CntRec</th><th scope=col>CntGood</th><th scope=col>CntBad</th><th scope=col>CntCumRec</th><th scope=col>CntCumGood</th><th scope=col>CntCumBad</th><th scope=col>PctRec</th><th scope=col>GoodRate</th><th scope=col>BadRate</th><th scope=col>Odds</th><th scope=col>LnOdds</th><th scope=col>WoE</th><th scope=col>IV</th></tr></thead>\n",
       "<tbody>\n",
       "\t<tr><td><span style=white-space:pre-wrap>&lt;= 1   </span></td><td> 613                                              </td><td> 380                                              </td><td> 233                                              </td><td> 613                                              </td><td> 380                                              </td><td> 233                                              </td><td>0.0872                                            </td><td>0.6199                                            </td><td>0.3801                                            </td><td>1.6309                                            </td><td> 0.4891                                           </td><td> 1.5052                                           </td><td>0.2381                                            </td></tr>\n",
       "\t<tr><td><span style=white-space:pre-wrap>&lt;= 5   </span></td><td> 747                                              </td><td> 364                                              </td><td> 383                                              </td><td>1360                                              </td><td> 744                                              </td><td> 616                                              </td><td>0.1062                                            </td><td>0.4873                                            </td><td>0.5127                                            </td><td>0.9504                                            </td><td>-0.0509                                           </td><td> 0.9652                                           </td><td>0.1164                                            </td></tr>\n",
       "\t<tr><td><span style=white-space:pre-wrap>&lt;= 16  </span></td><td>1179                                              </td><td> 420                                              </td><td> 759                                              </td><td>2539                                              </td><td>1164                                              </td><td>1375                                              </td><td>0.1677                                            </td><td>0.3562                                            </td><td>0.6438                                            </td><td>0.5534                                            </td><td>-0.5917                                           </td><td> 0.4244                                           </td><td>0.0330                                            </td></tr>\n",
       "\t<tr><td><span style=white-space:pre-wrap>&lt;= 22  </span></td><td> 481                                              </td><td> 131                                              </td><td> 350                                              </td><td>3020                                              </td><td>1295                                              </td><td>1725                                              </td><td>0.0684                                            </td><td>0.2723                                            </td><td>0.7277                                            </td><td>0.3743                                            </td><td>-0.9827                                           </td><td> 0.0334                                           </td><td>0.0001                                            </td></tr>\n",
       "\t<tr><td><span style=white-space:pre-wrap>&lt;= 49  </span></td><td>1839                                              </td><td> 376                                              </td><td>1463                                              </td><td>4859                                              </td><td>1671                                              </td><td>3188                                              </td><td>0.2615                                            </td><td>0.2045                                            </td><td>0.7955                                            </td><td>0.2570                                            </td><td>-1.3587                                           </td><td>-0.3425                                           </td><td>0.0281                                            </td></tr>\n",
       "\t<tr><td><span style=white-space:pre-wrap>&lt;= 59  </span></td><td> 690                                              </td><td><span style=white-space:pre-wrap>  99</span>      </td><td> 591                                              </td><td>5549                                              </td><td>1770                                              </td><td>3779                                              </td><td>0.0981                                            </td><td>0.1435                                            </td><td>0.8565                                            </td><td>0.1675                                            </td><td>-1.7867                                           </td><td>-0.7706                                           </td><td>0.0474                                            </td></tr>\n",
       "\t<tr><td><span style=white-space:pre-wrap>&lt;= 70  </span></td><td> 951                                              </td><td><span style=white-space:pre-wrap>  87</span>      </td><td> 864                                              </td><td>6500                                              </td><td>1857                                              </td><td>4643                                              </td><td>0.1352                                            </td><td>0.0915                                            </td><td>0.9085                                            </td><td>0.1007                                            </td><td>-2.2957                                           </td><td>-1.2796                                           </td><td>0.1546                                            </td></tr>\n",
       "\t<tr><td><span style=white-space:pre-wrap>&gt; 70   </span></td><td> 532                                              </td><td><span style=white-space:pre-wrap>  12</span>      </td><td> 520                                              </td><td>7032                                              </td><td>1869                                              </td><td>5163                                              </td><td>0.0757                                            </td><td>0.0226                                            </td><td>0.9774                                            </td><td>0.0231                                            </td><td>-3.7689                                           </td><td>-2.7528                                           </td><td>0.2596                                            </td></tr>\n",
       "\t<tr><td>Missing</td><td>   0   </td><td>   0   </td><td>   0   </td><td>7032   </td><td>1869   </td><td>5163   </td><td>0.0000 </td><td>   NaN </td><td>   NaN </td><td>   NaN </td><td>    NaN</td><td>    NaN</td><td>   NaN </td></tr>\n",
       "\t<tr><td>Total  </td><td>7032   </td><td>1869   </td><td>5163   </td><td>  NA   </td><td>  NA   </td><td>  NA   </td><td>1.0000 </td><td>0.2658 </td><td>0.7342 </td><td>0.3620 </td><td>-1.0161</td><td> 0.0000</td><td>0.8773 </td></tr>\n",
       "</tbody>\n",
       "</table>\n"
      ],
      "text/latex": [
       "\\begin{tabular}{r|llllllllllllll}\n",
       " Cutpoint & CntRec & CntGood & CntBad & CntCumRec & CntCumGood & CntCumBad & PctRec & GoodRate & BadRate & Odds & LnOdds & WoE & IV\\\\\n",
       "\\hline\n",
       "\t <= 1    &  613    &  380    &  233    &  613    &  380    &  233    & 0.0872  & 0.6199  & 0.3801  & 1.6309  &  0.4891 &  1.5052 & 0.2381 \\\\\n",
       "\t <= 5    &  747    &  364    &  383    & 1360    &  744    &  616    & 0.1062  & 0.4873  & 0.5127  & 0.9504  & -0.0509 &  0.9652 & 0.1164 \\\\\n",
       "\t <= 16   & 1179    &  420    &  759    & 2539    & 1164    & 1375    & 0.1677  & 0.3562  & 0.6438  & 0.5534  & -0.5917 &  0.4244 & 0.0330 \\\\\n",
       "\t <= 22   &  481    &  131    &  350    & 3020    & 1295    & 1725    & 0.0684  & 0.2723  & 0.7277  & 0.3743  & -0.9827 &  0.0334 & 0.0001 \\\\\n",
       "\t <= 49   & 1839    &  376    & 1463    & 4859    & 1671    & 3188    & 0.2615  & 0.2045  & 0.7955  & 0.2570  & -1.3587 & -0.3425 & 0.0281 \\\\\n",
       "\t <= 59   &  690    &   99    &  591    & 5549    & 1770    & 3779    & 0.0981  & 0.1435  & 0.8565  & 0.1675  & -1.7867 & -0.7706 & 0.0474 \\\\\n",
       "\t <= 70   &  951    &   87    &  864    & 6500    & 1857    & 4643    & 0.1352  & 0.0915  & 0.9085  & 0.1007  & -2.2957 & -1.2796 & 0.1546 \\\\\n",
       "\t > 70    &  532    &   12    &  520    & 7032    & 1869    & 5163    & 0.0757  & 0.0226  & 0.9774  & 0.0231  & -3.7689 & -2.7528 & 0.2596 \\\\\n",
       "\t Missing &    0    &    0    &    0    & 7032    & 1869    & 5163    & 0.0000  &    NaN  &    NaN  &    NaN  &     NaN &     NaN &    NaN \\\\\n",
       "\t Total   & 7032    & 1869    & 5163    &   NA    &   NA    &   NA    & 1.0000  & 0.2658  & 0.7342  & 0.3620  & -1.0161 &  0.0000 & 0.8773 \\\\\n",
       "\\end{tabular}\n"
      ],
      "text/markdown": [
       "\n",
       "Cutpoint | CntRec | CntGood | CntBad | CntCumRec | CntCumGood | CntCumBad | PctRec | GoodRate | BadRate | Odds | LnOdds | WoE | IV | \n",
       "|---|---|---|---|---|---|---|---|---|---|\n",
       "| <= 1    |  613    |  380    |  233    |  613    |  380    |  233    | 0.0872  | 0.6199  | 0.3801  | 1.6309  |  0.4891 |  1.5052 | 0.2381  | \n",
       "| <= 5    |  747    |  364    |  383    | 1360    |  744    |  616    | 0.1062  | 0.4873  | 0.5127  | 0.9504  | -0.0509 |  0.9652 | 0.1164  | \n",
       "| <= 16   | 1179    |  420    |  759    | 2539    | 1164    | 1375    | 0.1677  | 0.3562  | 0.6438  | 0.5534  | -0.5917 |  0.4244 | 0.0330  | \n",
       "| <= 22   |  481    |  131    |  350    | 3020    | 1295    | 1725    | 0.0684  | 0.2723  | 0.7277  | 0.3743  | -0.9827 |  0.0334 | 0.0001  | \n",
       "| <= 49   | 1839    |  376    | 1463    | 4859    | 1671    | 3188    | 0.2615  | 0.2045  | 0.7955  | 0.2570  | -1.3587 | -0.3425 | 0.0281  | \n",
       "| <= 59   |  690    |   99    |  591    | 5549    | 1770    | 3779    | 0.0981  | 0.1435  | 0.8565  | 0.1675  | -1.7867 | -0.7706 | 0.0474  | \n",
       "| <= 70   |  951    |   87    |  864    | 6500    | 1857    | 4643    | 0.1352  | 0.0915  | 0.9085  | 0.1007  | -2.2957 | -1.2796 | 0.1546  | \n",
       "| > 70    |  532    |   12    |  520    | 7032    | 1869    | 5163    | 0.0757  | 0.0226  | 0.9774  | 0.0231  | -3.7689 | -2.7528 | 0.2596  | \n",
       "| Missing |    0    |    0    |    0    | 7032    | 1869    | 5163    | 0.0000  |    NaN  |    NaN  |    NaN  |     NaN |     NaN |    NaN  | \n",
       "| Total   | 7032    | 1869    | 5163    |   NA    |   NA    |   NA    | 1.0000  | 0.2658  | 0.7342  | 0.3620  | -1.0161 |  0.0000 | 0.8773  | \n",
       "\n",
       "\n"
      ],
      "text/plain": [
       "   Cutpoint CntRec CntGood CntBad CntCumRec CntCumGood CntCumBad PctRec\n",
       "1  <= 1      613    380     233    613       380        233      0.0872\n",
       "2  <= 5      747    364     383   1360       744        616      0.1062\n",
       "3  <= 16    1179    420     759   2539      1164       1375      0.1677\n",
       "4  <= 22     481    131     350   3020      1295       1725      0.0684\n",
       "5  <= 49    1839    376    1463   4859      1671       3188      0.2615\n",
       "6  <= 59     690     99     591   5549      1770       3779      0.0981\n",
       "7  <= 70     951     87     864   6500      1857       4643      0.1352\n",
       "8  > 70      532     12     520   7032      1869       5163      0.0757\n",
       "9  Missing     0      0       0   7032      1869       5163      0.0000\n",
       "10 Total    7032   1869    5163     NA        NA         NA      1.0000\n",
       "   GoodRate BadRate Odds   LnOdds  WoE     IV    \n",
       "1  0.6199   0.3801  1.6309  0.4891  1.5052 0.2381\n",
       "2  0.4873   0.5127  0.9504 -0.0509  0.9652 0.1164\n",
       "3  0.3562   0.6438  0.5534 -0.5917  0.4244 0.0330\n",
       "4  0.2723   0.7277  0.3743 -0.9827  0.0334 0.0001\n",
       "5  0.2045   0.7955  0.2570 -1.3587 -0.3425 0.0281\n",
       "6  0.1435   0.8565  0.1675 -1.7867 -0.7706 0.0474\n",
       "7  0.0915   0.9085  0.1007 -2.2957 -1.2796 0.1546\n",
       "8  0.0226   0.9774  0.0231 -3.7689 -2.7528 0.2596\n",
       "9     NaN      NaN     NaN     NaN     NaN    NaN\n",
       "10 0.2658   0.7342  0.3620 -1.0161  0.0000 0.8773"
      ]
     },
     "metadata": {},
     "output_type": "display_data"
    }
   ],
   "source": [
    "result=smbinning(df=df_data,y=\"Churn\",x=\"tenure\",p=0.05) \n",
    "result$ivtable"
   ]
  },
  {
   "cell_type": "code",
   "execution_count": 7,
   "metadata": {},
   "outputs": [],
   "source": [
    "df_data$TenureCat <- cut(df_data$tenure, breaks=c(0,result$cuts,Inf), include.lowest = F)\n",
    "df_data <- df_data %>% select(-tenure)"
   ]
  },
  {
   "cell_type": "code",
   "execution_count": 8,
   "metadata": {},
   "outputs": [
    {
     "data": {
      "text/html": [
       "<table>\n",
       "<thead><tr><th scope=col>Cutpoint</th><th scope=col>CntRec</th><th scope=col>CntGood</th><th scope=col>CntBad</th><th scope=col>CntCumRec</th><th scope=col>CntCumGood</th><th scope=col>CntCumBad</th><th scope=col>PctRec</th><th scope=col>GoodRate</th><th scope=col>BadRate</th><th scope=col>Odds</th><th scope=col>LnOdds</th><th scope=col>WoE</th><th scope=col>IV</th></tr></thead>\n",
       "<tbody>\n",
       "\t<tr><td><span style=white-space:pre-wrap>&lt;= 26.9  </span></td><td>1600                                                </td><td> 148                                                </td><td>1452                                                </td><td>1600                                                </td><td> 148                                                </td><td>1452                                                </td><td>0.2275                                              </td><td>0.0925                                              </td><td>0.9075                                              </td><td>0.1019                                              </td><td>-2.2835                                             </td><td>-1.2674                                             </td><td>0.2561                                              </td></tr>\n",
       "\t<tr><td>&lt;= 55.95 </td><td>1119        </td><td> 318        </td><td> 801        </td><td>2719        </td><td> 466        </td><td>2253        </td><td>0.1591      </td><td>0.2842      </td><td>0.7158      </td><td>0.3970      </td><td>-0.9238     </td><td> 0.0923     </td><td>0.0014      </td></tr>\n",
       "\t<tr><td><span style=white-space:pre-wrap>&lt;= 68.8  </span></td><td> 563                                                </td><td><span style=white-space:pre-wrap>  66</span>        </td><td> 497                                                </td><td>3282                                                </td><td> 532                                                </td><td>2750                                                </td><td>0.0801                                              </td><td>0.1172                                              </td><td>0.8828                                              </td><td>0.1328                                              </td><td>-2.0189                                             </td><td>-1.0028                                             </td><td>0.0611                                              </td></tr>\n",
       "\t<tr><td>&lt;= 106.75</td><td>3380        </td><td>1279        </td><td>2101        </td><td>6662        </td><td>1811        </td><td>4851        </td><td>0.4807      </td><td>0.3784      </td><td>0.6216      </td><td>0.6088      </td><td>-0.4963     </td><td> 0.5198     </td><td>0.1442      </td></tr>\n",
       "\t<tr><td>&gt; 106.75                                 </td><td> 370                                        </td><td><span style=white-space:pre-wrap>  58</span></td><td> 312                                        </td><td>7032                                        </td><td>1869                                        </td><td>5163                                        </td><td>0.0526                                      </td><td>0.1568                                      </td><td>0.8432                                      </td><td>0.1859                                      </td><td>-1.6826                                     </td><td>-0.6664                                     </td><td>0.0196                                      </td></tr>\n",
       "\t<tr><td>Missing  </td><td>   0     </td><td>   0     </td><td>   0     </td><td>7032     </td><td>1869     </td><td>5163     </td><td>0.0000   </td><td>   NaN   </td><td>   NaN   </td><td>   NaN   </td><td>    NaN  </td><td>    NaN  </td><td>   NaN   </td></tr>\n",
       "\t<tr><td>Total    </td><td>7032     </td><td>1869     </td><td>5163     </td><td>  NA     </td><td>  NA     </td><td>  NA     </td><td>1.0000   </td><td>0.2658   </td><td>0.7342   </td><td>0.3620   </td><td>-1.0161  </td><td> 0.0000  </td><td>0.4824   </td></tr>\n",
       "</tbody>\n",
       "</table>\n"
      ],
      "text/latex": [
       "\\begin{tabular}{r|llllllllllllll}\n",
       " Cutpoint & CntRec & CntGood & CntBad & CntCumRec & CntCumGood & CntCumBad & PctRec & GoodRate & BadRate & Odds & LnOdds & WoE & IV\\\\\n",
       "\\hline\n",
       "\t <= 26.9   & 1600      &  148      & 1452      & 1600      &  148      & 1452      & 0.2275    & 0.0925    & 0.9075    & 0.1019    & -2.2835   & -1.2674   & 0.2561   \\\\\n",
       "\t <= 55.95  & 1119      &  318      &  801      & 2719      &  466      & 2253      & 0.1591    & 0.2842    & 0.7158    & 0.3970    & -0.9238   &  0.0923   & 0.0014   \\\\\n",
       "\t <= 68.8   &  563      &   66      &  497      & 3282      &  532      & 2750      & 0.0801    & 0.1172    & 0.8828    & 0.1328    & -2.0189   & -1.0028   & 0.0611   \\\\\n",
       "\t <= 106.75 & 3380      & 1279      & 2101      & 6662      & 1811      & 4851      & 0.4807    & 0.3784    & 0.6216    & 0.6088    & -0.4963   &  0.5198   & 0.1442   \\\\\n",
       "\t > 106.75  &  370      &   58      &  312      & 7032      & 1869      & 5163      & 0.0526    & 0.1568    & 0.8432    & 0.1859    & -1.6826   & -0.6664   & 0.0196   \\\\\n",
       "\t Missing   &    0      &    0      &    0      & 7032      & 1869      & 5163      & 0.0000    &    NaN    &    NaN    &    NaN    &     NaN   &     NaN   &    NaN   \\\\\n",
       "\t Total     & 7032      & 1869      & 5163      &   NA      &   NA      &   NA      & 1.0000    & 0.2658    & 0.7342    & 0.3620    & -1.0161   &  0.0000   & 0.4824   \\\\\n",
       "\\end{tabular}\n"
      ],
      "text/markdown": [
       "\n",
       "Cutpoint | CntRec | CntGood | CntBad | CntCumRec | CntCumGood | CntCumBad | PctRec | GoodRate | BadRate | Odds | LnOdds | WoE | IV | \n",
       "|---|---|---|---|---|---|---|\n",
       "| <= 26.9   | 1600      |  148      | 1452      | 1600      |  148      | 1452      | 0.2275    | 0.0925    | 0.9075    | 0.1019    | -2.2835   | -1.2674   | 0.2561    | \n",
       "| <= 55.95  | 1119      |  318      |  801      | 2719      |  466      | 2253      | 0.1591    | 0.2842    | 0.7158    | 0.3970    | -0.9238   |  0.0923   | 0.0014    | \n",
       "| <= 68.8   |  563      |   66      |  497      | 3282      |  532      | 2750      | 0.0801    | 0.1172    | 0.8828    | 0.1328    | -2.0189   | -1.0028   | 0.0611    | \n",
       "| <= 106.75 | 3380      | 1279      | 2101      | 6662      | 1811      | 4851      | 0.4807    | 0.3784    | 0.6216    | 0.6088    | -0.4963   |  0.5198   | 0.1442    | \n",
       "| > 106.75  |  370      |   58      |  312      | 7032      | 1869      | 5163      | 0.0526    | 0.1568    | 0.8432    | 0.1859    | -1.6826   | -0.6664   | 0.0196    | \n",
       "| Missing   |    0      |    0      |    0      | 7032      | 1869      | 5163      | 0.0000    |    NaN    |    NaN    |    NaN    |     NaN   |     NaN   |    NaN    | \n",
       "| Total     | 7032      | 1869      | 5163      |   NA      |   NA      |   NA      | 1.0000    | 0.2658    | 0.7342    | 0.3620    | -1.0161   |  0.0000   | 0.4824    | \n",
       "\n",
       "\n"
      ],
      "text/plain": [
       "  Cutpoint  CntRec CntGood CntBad CntCumRec CntCumGood CntCumBad PctRec\n",
       "1 <= 26.9   1600    148    1452   1600       148       1452      0.2275\n",
       "2 <= 55.95  1119    318     801   2719       466       2253      0.1591\n",
       "3 <= 68.8    563     66     497   3282       532       2750      0.0801\n",
       "4 <= 106.75 3380   1279    2101   6662      1811       4851      0.4807\n",
       "5 > 106.75   370     58     312   7032      1869       5163      0.0526\n",
       "6 Missing      0      0       0   7032      1869       5163      0.0000\n",
       "7 Total     7032   1869    5163     NA        NA         NA      1.0000\n",
       "  GoodRate BadRate Odds   LnOdds  WoE     IV    \n",
       "1 0.0925   0.9075  0.1019 -2.2835 -1.2674 0.2561\n",
       "2 0.2842   0.7158  0.3970 -0.9238  0.0923 0.0014\n",
       "3 0.1172   0.8828  0.1328 -2.0189 -1.0028 0.0611\n",
       "4 0.3784   0.6216  0.6088 -0.4963  0.5198 0.1442\n",
       "5 0.1568   0.8432  0.1859 -1.6826 -0.6664 0.0196\n",
       "6    NaN      NaN     NaN     NaN     NaN    NaN\n",
       "7 0.2658   0.7342  0.3620 -1.0161  0.0000 0.4824"
      ]
     },
     "metadata": {},
     "output_type": "display_data"
    }
   ],
   "source": [
    "result=smbinning(df=df_data,y=\"Churn\",x=\"MonthlyCharges\",p=0.05) \n",
    "result$ivtable"
   ]
  },
  {
   "cell_type": "code",
   "execution_count": 9,
   "metadata": {},
   "outputs": [],
   "source": [
    "df_data$MonthlyChargesCat <- cut(df_data$MonthlyCharges, breaks=c(0,result$cuts,Inf), include.lowest = F) \n",
    "df_data <- df_data %>% select(-MonthlyCharges)"
   ]
  },
  {
   "cell_type": "code",
   "execution_count": 10,
   "metadata": {},
   "outputs": [
    {
     "data": {
      "text/html": [
       "<table>\n",
       "<thead><tr><th scope=col>Cutpoint</th><th scope=col>CntRec</th><th scope=col>CntGood</th><th scope=col>CntBad</th><th scope=col>CntCumRec</th><th scope=col>CntCumGood</th><th scope=col>CntCumBad</th><th scope=col>PctRec</th><th scope=col>GoodRate</th><th scope=col>BadRate</th><th scope=col>Odds</th><th scope=col>LnOdds</th><th scope=col>WoE</th><th scope=col>IV</th></tr></thead>\n",
       "<tbody>\n",
       "\t<tr><td><span style=white-space:pre-wrap>&lt;= 198    </span></td><td>1173                                                 </td><td> 574                                                 </td><td> 599                                                 </td><td>1173                                                 </td><td> 574                                                 </td><td> 599                                                 </td><td>0.1668                                               </td><td>0.4893                                               </td><td>0.5107                                               </td><td>0.9583                                               </td><td>-0.0426                                              </td><td> 0.9735                                              </td><td>0.1860                                               </td></tr>\n",
       "\t<tr><td>&lt;= 3233.85</td><td>3805         </td><td> 988         </td><td>2817         </td><td>4978         </td><td>1562         </td><td>3416         </td><td>0.5411       </td><td>0.2597       </td><td>0.7403       </td><td>0.3507       </td><td>-1.0477      </td><td>-0.0316      </td><td>0.0005       </td></tr>\n",
       "\t<tr><td>&lt;= 5643.4 </td><td>1195         </td><td> 201         </td><td> 994         </td><td>6173         </td><td>1763         </td><td>4410         </td><td>0.1699       </td><td>0.1682       </td><td>0.8318       </td><td>0.2022       </td><td>-1.5984      </td><td>-0.5823      </td><td>0.0495       </td></tr>\n",
       "\t<tr><td><span style=white-space:pre-wrap>&gt; 5643.4  </span></td><td> 859                                                 </td><td> 106                                                 </td><td> 753                                                 </td><td>7032                                                 </td><td>1869                                                 </td><td>5163                                                 </td><td>0.1222                                               </td><td>0.1234                                               </td><td>0.8766                                               </td><td>0.1408                                               </td><td>-1.9606                                              </td><td>-0.9445                                              </td><td>0.0842                                               </td></tr>\n",
       "\t<tr><td>Missing   </td><td>   0      </td><td>   0      </td><td>   0      </td><td>7032      </td><td>1869      </td><td>5163      </td><td>0.0000    </td><td>   NaN    </td><td>   NaN    </td><td>   NaN    </td><td>    NaN   </td><td>    NaN   </td><td>   NaN    </td></tr>\n",
       "\t<tr><td>Total     </td><td>7032      </td><td>1869      </td><td>5163      </td><td>  NA      </td><td>  NA      </td><td>  NA      </td><td>1.0000    </td><td>0.2658    </td><td>0.7342    </td><td>0.3620    </td><td>-1.0161   </td><td> 0.0000   </td><td>0.3202    </td></tr>\n",
       "</tbody>\n",
       "</table>\n"
      ],
      "text/latex": [
       "\\begin{tabular}{r|llllllllllllll}\n",
       " Cutpoint & CntRec & CntGood & CntBad & CntCumRec & CntCumGood & CntCumBad & PctRec & GoodRate & BadRate & Odds & LnOdds & WoE & IV\\\\\n",
       "\\hline\n",
       "\t <= 198     & 1173       &  574       &  599       & 1173       &  574       &  599       & 0.1668     & 0.4893     & 0.5107     & 0.9583     & -0.0426    &  0.9735    & 0.1860    \\\\\n",
       "\t <= 3233.85 & 3805       &  988       & 2817       & 4978       & 1562       & 3416       & 0.5411     & 0.2597     & 0.7403     & 0.3507     & -1.0477    & -0.0316    & 0.0005    \\\\\n",
       "\t <= 5643.4  & 1195       &  201       &  994       & 6173       & 1763       & 4410       & 0.1699     & 0.1682     & 0.8318     & 0.2022     & -1.5984    & -0.5823    & 0.0495    \\\\\n",
       "\t > 5643.4   &  859       &  106       &  753       & 7032       & 1869       & 5163       & 0.1222     & 0.1234     & 0.8766     & 0.1408     & -1.9606    & -0.9445    & 0.0842    \\\\\n",
       "\t Missing    &    0       &    0       &    0       & 7032       & 1869       & 5163       & 0.0000     &    NaN     &    NaN     &    NaN     &     NaN    &     NaN    &    NaN    \\\\\n",
       "\t Total      & 7032       & 1869       & 5163       &   NA       &   NA       &   NA       & 1.0000     & 0.2658     & 0.7342     & 0.3620     & -1.0161    &  0.0000    & 0.3202    \\\\\n",
       "\\end{tabular}\n"
      ],
      "text/markdown": [
       "\n",
       "Cutpoint | CntRec | CntGood | CntBad | CntCumRec | CntCumGood | CntCumBad | PctRec | GoodRate | BadRate | Odds | LnOdds | WoE | IV | \n",
       "|---|---|---|---|---|---|\n",
       "| <= 198     | 1173       |  574       |  599       | 1173       |  574       |  599       | 0.1668     | 0.4893     | 0.5107     | 0.9583     | -0.0426    |  0.9735    | 0.1860     | \n",
       "| <= 3233.85 | 3805       |  988       | 2817       | 4978       | 1562       | 3416       | 0.5411     | 0.2597     | 0.7403     | 0.3507     | -1.0477    | -0.0316    | 0.0005     | \n",
       "| <= 5643.4  | 1195       |  201       |  994       | 6173       | 1763       | 4410       | 0.1699     | 0.1682     | 0.8318     | 0.2022     | -1.5984    | -0.5823    | 0.0495     | \n",
       "| > 5643.4   |  859       |  106       |  753       | 7032       | 1869       | 5163       | 0.1222     | 0.1234     | 0.8766     | 0.1408     | -1.9606    | -0.9445    | 0.0842     | \n",
       "| Missing    |    0       |    0       |    0       | 7032       | 1869       | 5163       | 0.0000     |    NaN     |    NaN     |    NaN     |     NaN    |     NaN    |    NaN     | \n",
       "| Total      | 7032       | 1869       | 5163       |   NA       |   NA       |   NA       | 1.0000     | 0.2658     | 0.7342     | 0.3620     | -1.0161    |  0.0000    | 0.3202     | \n",
       "\n",
       "\n"
      ],
      "text/plain": [
       "  Cutpoint   CntRec CntGood CntBad CntCumRec CntCumGood CntCumBad PctRec\n",
       "1 <= 198     1173    574     599   1173       574        599      0.1668\n",
       "2 <= 3233.85 3805    988    2817   4978      1562       3416      0.5411\n",
       "3 <= 5643.4  1195    201     994   6173      1763       4410      0.1699\n",
       "4 > 5643.4    859    106     753   7032      1869       5163      0.1222\n",
       "5 Missing       0      0       0   7032      1869       5163      0.0000\n",
       "6 Total      7032   1869    5163     NA        NA         NA      1.0000\n",
       "  GoodRate BadRate Odds   LnOdds  WoE     IV    \n",
       "1 0.4893   0.5107  0.9583 -0.0426  0.9735 0.1860\n",
       "2 0.2597   0.7403  0.3507 -1.0477 -0.0316 0.0005\n",
       "3 0.1682   0.8318  0.2022 -1.5984 -0.5823 0.0495\n",
       "4 0.1234   0.8766  0.1408 -1.9606 -0.9445 0.0842\n",
       "5    NaN      NaN     NaN     NaN     NaN    NaN\n",
       "6 0.2658   0.7342  0.3620 -1.0161  0.0000 0.3202"
      ]
     },
     "metadata": {},
     "output_type": "display_data"
    }
   ],
   "source": [
    "result=smbinning(df=df_data,y=\"Churn\",x=\"TotalCharges\",p=0.05) \n",
    "result$ivtable"
   ]
  },
  {
   "cell_type": "code",
   "execution_count": 11,
   "metadata": {},
   "outputs": [],
   "source": [
    "df_data$TotalChargesCat <- cut(df_data$TotalCharges, breaks=c(0,result$cuts,Inf), include.lowest = F) \n",
    "df_data <- df_data %>% select(-TotalCharges)"
   ]
  },
  {
   "cell_type": "markdown",
   "metadata": {},
   "source": [
    "### Split into training and validation sets."
   ]
  },
  {
   "cell_type": "code",
   "execution_count": 12,
   "metadata": {},
   "outputs": [
    {
     "name": "stderr",
     "output_type": "stream",
     "text": [
      "\n",
      "Attaching package: 'rsample'\n",
      "\n",
      "The following object is masked from 'package:tidyr':\n",
      "\n",
      "    fill\n",
      "\n"
     ]
    }
   ],
   "source": [
    "library(rsample)\n",
    "set.seed(12345)"
   ]
  },
  {
   "cell_type": "code",
   "execution_count": 13,
   "metadata": {},
   "outputs": [],
   "source": [
    "split_set <- initial_split(df_data, prop = 0.75)"
   ]
  },
  {
   "cell_type": "code",
   "execution_count": 14,
   "metadata": {},
   "outputs": [],
   "source": [
    "df_train <- training(split_set)\n",
    "df_test <- testing(split_set)"
   ]
  },
  {
   "cell_type": "markdown",
   "metadata": {},
   "source": [
    "### Scale and center all numeric variables. Create dummy variables for categories."
   ]
  },
  {
   "cell_type": "code",
   "execution_count": 15,
   "metadata": {},
   "outputs": [],
   "source": [
    "library(recipes)"
   ]
  },
  {
   "cell_type": "code",
   "execution_count": 16,
   "metadata": {},
   "outputs": [],
   "source": [
    "recipe_obj <- recipe(Churn ~ ., data = df_train) %>%\n",
    "    step_dummy(all_nominal(), -all_outcomes()) %>%\n",
    "    step_center(all_predictors(), -all_outcomes()) %>%\n",
    "    step_scale(all_predictors(), -all_outcomes()) %>%\n",
    "    prep(data = df_train)"
   ]
  },
  {
   "cell_type": "code",
   "execution_count": 17,
   "metadata": {},
   "outputs": [],
   "source": [
    "df_train_x <- bake(recipe_obj, newdata=df_train, -all_outcomes())\n",
    "df_test_x <- bake(recipe_obj, newdata=df_test, -all_outcomes())"
   ]
  },
  {
   "cell_type": "code",
   "execution_count": 18,
   "metadata": {},
   "outputs": [],
   "source": [
    "vec_train_y <- df_train$Churn\n",
    "vec_test_y <- df_test$Churn"
   ]
  },
  {
   "cell_type": "code",
   "execution_count": 19,
   "metadata": {},
   "outputs": [],
   "source": [
    "write.csv(df_train_x, \"../data/df_train_x.csv\")\n",
    "write.csv(df_test_x, \"../data/df_test_x.csv\")\n",
    "write.csv(vec_train_y, \"../data/vec_train_y.csv\")\n",
    "write.csv(vec_test_y, \"../data/vec_test_y.csv\")\n"
   ]
  },
  {
   "cell_type": "code",
   "execution_count": null,
   "metadata": {},
   "outputs": [],
   "source": []
  },
  {
   "cell_type": "code",
   "execution_count": 22,
   "metadata": {},
   "outputs": [
    {
     "name": "stderr",
     "output_type": "stream",
     "text": [
      "Loading required package: PerformanceAnalytics\n",
      "Loading required package: xts\n",
      "Loading required package: zoo\n",
      "\n",
      "Attaching package: 'zoo'\n",
      "\n",
      "The following objects are masked from 'package:base':\n",
      "\n",
      "    as.Date, as.Date.numeric\n",
      "\n",
      "\n",
      "Attaching package: 'xts'\n",
      "\n",
      "The following objects are masked from 'package:dplyr':\n",
      "\n",
      "    first, last\n",
      "\n",
      "\n",
      "Attaching package: 'PerformanceAnalytics'\n",
      "\n",
      "The following object is masked from 'package:graphics':\n",
      "\n",
      "    legend\n",
      "\n",
      "Loading required package: quantmod\n",
      "Loading required package: TTR\n",
      "Version 0.4-0 included new data defaults. See ?getSymbols.\n",
      "Loading required package: tidyverse\n",
      "-- Attaching packages --------------------------------------- tidyverse 1.2.1 --\n",
      "v ggplot2 3.0.0     v purrr   0.2.5\n",
      "v tibble  1.4.2     v stringr 1.3.1\n",
      "v readr   1.1.1     v forcats 0.3.0\n",
      "-- Conflicts ------------------------------------------ tidyverse_conflicts() --\n",
      "x lubridate::as.difftime() masks base::as.difftime()\n",
      "x lubridate::date()        masks base::date()\n",
      "x rsample::fill()          masks tidyr::fill()\n",
      "x dplyr::filter()          masks stats::filter()\n",
      "x xts::first()             masks dplyr::first()\n",
      "x stringr::fixed()         masks recipes::fixed()\n",
      "x lubridate::intersect()   masks base::intersect()\n",
      "x dplyr::lag()             masks stats::lag()\n",
      "x xts::last()              masks dplyr::last()\n",
      "x lubridate::setdiff()     masks base::setdiff()\n",
      "x xgboost::slice()         masks dplyr::slice()\n",
      "x lubridate::union()       masks base::union()\n"
     ]
    }
   ],
   "source": [
    "library(corrr)\n",
    "library(tidyquant)"
   ]
  },
  {
   "cell_type": "code",
   "execution_count": 23,
   "metadata": {},
   "outputs": [
    {
     "name": "stderr",
     "output_type": "stream",
     "text": [
      "\n",
      "Correlation method: 'pearson'\n",
      "Missing treated using: 'pairwise.complete.obs'\n",
      "\n"
     ]
    }
   ],
   "source": [
    "corrr_analysis <- df_train_x %>%\n",
    "    mutate(Churn = vec_train_y) %>%\n",
    "    correlate() %>%\n",
    "    focus(Churn) %>%\n",
    "    rename(feature = rowname) %>%\n",
    "    arrange(abs(Churn)) %>%\n",
    "    mutate(feature = as_factor(feature)) "
   ]
  },
  {
   "cell_type": "code",
   "execution_count": 24,
   "metadata": {},
   "outputs": [
    {
     "data": {},
     "metadata": {},
     "output_type": "display_data"
    },
    {
     "ename": "ERROR",
     "evalue": "Error in png(tf, width, height, \"in\", pointsize, bg, res, antialias = antialias): unable to start png() device\n",
     "output_type": "error",
     "traceback": [
      "Error in png(tf, width, height, \"in\", pointsize, bg, res, antialias = antialias): unable to start png() device\nTraceback:\n"
     ]
    },
    {
     "data": {
      "text/plain": [
       "plot without title"
      ]
     },
     "metadata": {},
     "output_type": "display_data"
    }
   ],
   "source": [
    "# Correlation visualization\n",
    "corrr_analysis %>%\n",
    "    ggplot(aes(x = Churn, y = fct_reorder(feature, desc(Churn)))) +\n",
    "    geom_point() +\n",
    "    # Positive Correlations - Contribute to churn\n",
    "    geom_segment(aes(xend = 0, yend = feature), \n",
    "                 color = palette_light()[[2]], \n",
    "                 data = corrr_analysis %>% filter(Churn > 0)) +\n",
    "    geom_point(color = palette_light()[[2]], \n",
    "               data = corrr_analysis %>% filter(Churn > 0)) +\n",
    "    # Negative Correlations - Prevent churn\n",
    "    geom_segment(aes(xend = 0, yend = feature), \n",
    "                 color = palette_light()[[1]], \n",
    "                 data = corrr_analysis %>% filter(Churn < 0)) +\n",
    "    geom_point(color = palette_light()[[1]], \n",
    "               data = corrr_analysis %>% filter(Churn < 0)) +\n",
    "    # Vertical lines\n",
    "    geom_vline(xintercept = 0, color = palette_light()[[5]], size = 1, linetype = 2) +\n",
    "    geom_vline(xintercept = -0.25, color = palette_light()[[5]], size = 1, linetype = 2) +\n",
    "    geom_vline(xintercept = 0.25, color = palette_light()[[5]], size = 1, linetype = 2) +\n",
    "    # Aesthetics\n",
    "    theme_tq() +\n",
    "    labs(title = \"Churn Correlation Analysis\",\n",
    "         subtitle = \"Positive Correlations (contribute to churn), Negative Correlations (prevent churn)\",\n",
    "         y = \"Feature Importance\")"
   ]
  }
 ],
 "metadata": {
  "kernelspec": {
   "display_name": "R",
   "language": "R",
   "name": "ir"
  },
  "language_info": {
   "codemirror_mode": "r",
   "file_extension": ".r",
   "mimetype": "text/x-r-source",
   "name": "R",
   "pygments_lexer": "r",
   "version": "3.5.1"
  }
 },
 "nbformat": 4,
 "nbformat_minor": 2
}
