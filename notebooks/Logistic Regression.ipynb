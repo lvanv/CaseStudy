{
 "cells": [
  {
   "cell_type": "code",
   "execution_count": 1,
   "metadata": {},
   "outputs": [
    {
     "name": "stderr",
     "output_type": "stream",
     "text": [
      "\n",
      "Attaching package: 'dplyr'\n",
      "\n",
      "The following objects are masked from 'package:stats':\n",
      "\n",
      "    filter, lag\n",
      "\n",
      "The following objects are masked from 'package:base':\n",
      "\n",
      "    intersect, setdiff, setequal, union\n",
      "\n"
     ]
    }
   ],
   "source": [
    "library(dplyr)"
   ]
  },
  {
   "cell_type": "code",
   "execution_count": 10,
   "metadata": {},
   "outputs": [],
   "source": [
    "df_train_x <- read.csv(\"../data/df_train_x.csv\") %>% select(-X) \n",
    "df_test_x <- read.csv(\"../data/df_test_x.csv\") %>% select(-X) \n",
    "vec_train_y <- read.csv(\"../data/vec_train_y.csv\") %>% select(-X, x) %>% data.matrix()\n",
    "vec_test_y <- read.csv(\"../data/vec_test_y.csv\") %>% select(-X)  %>% data.matrix()\n",
    "df_train <- cbind(df_train_x, churn=vec_train_y) %>% select(churn = x, everything())\n",
    "df_test <- cbind(df_test_x, churn=vec_test_y) %>% select(churn = x, everything())"
   ]
  },
  {
   "cell_type": "code",
   "execution_count": 11,
   "metadata": {},
   "outputs": [],
   "source": [
    "base_model <- glm(churn ~ .,data = df_train, family = \"binomial\")"
   ]
  },
  {
   "cell_type": "code",
   "execution_count": 12,
   "metadata": {},
   "outputs": [
    {
     "name": "stderr",
     "output_type": "stream",
     "text": [
      "Loading required package: broom\n",
      "\n",
      "Attaching package: 'yardstick'\n",
      "\n",
      "The following objects are masked from 'package:InformationValue':\n",
      "\n",
      "    npv, precision\n",
      "\n"
     ]
    }
   ],
   "source": [
    "#install.packages(\"InformationValue\")\n",
    "library(InformationValue)\n",
    "library(yardstick)\n"
   ]
  },
  {
   "cell_type": "code",
   "execution_count": 30,
   "metadata": {},
   "outputs": [
    {
     "name": "stderr",
     "output_type": "stream",
     "text": [
      "Warning message in predict.lm(object, newdata, se.fit, scale = 1, type = ifelse(type == :\n",
      "\"prediction from a rank-deficient fit may be misleading\""
     ]
    }
   ],
   "source": [
    "vec_pred_y <-  predict(base_model, newdata = df_test_x, type = \"response\")\n",
    "opt_cut <- optimalCutoff(vec_test_y, vec_pred_y)\n",
    "vec_est_y <- ifelse(vec_pred_y <= opt_cut, 0, 1)\n"
   ]
  },
  {
   "cell_type": "code",
   "execution_count": 23,
   "metadata": {},
   "outputs": [
    {
     "data": {
      "text/html": [
       "<table>\n",
       "<thead><tr><th scope=col>truth</th><th scope=col>estimate</th><th scope=col>class_prob</th></tr></thead>\n",
       "<tbody>\n",
       "\t<tr><td>no         </td><td>no         </td><td>0.051672459</td></tr>\n",
       "\t<tr><td>no         </td><td>no         </td><td>0.180447163</td></tr>\n",
       "\t<tr><td>no         </td><td>no         </td><td>0.049039736</td></tr>\n",
       "\t<tr><td>no         </td><td>no         </td><td>0.007867599</td></tr>\n",
       "\t<tr><td>no         </td><td>yes        </td><td>0.861489214</td></tr>\n",
       "\t<tr><td>no         </td><td>no         </td><td>0.011577785</td></tr>\n",
       "</tbody>\n",
       "</table>\n"
      ],
      "text/latex": [
       "\\begin{tabular}{r|lll}\n",
       " truth & estimate & class\\_prob\\\\\n",
       "\\hline\n",
       "\t no          & no          & 0.051672459\\\\\n",
       "\t no          & no          & 0.180447163\\\\\n",
       "\t no          & no          & 0.049039736\\\\\n",
       "\t no          & no          & 0.007867599\\\\\n",
       "\t no          & yes         & 0.861489214\\\\\n",
       "\t no          & no          & 0.011577785\\\\\n",
       "\\end{tabular}\n"
      ],
      "text/markdown": [
       "\n",
       "truth | estimate | class_prob | \n",
       "|---|---|---|---|---|---|\n",
       "| no          | no          | 0.051672459 | \n",
       "| no          | no          | 0.180447163 | \n",
       "| no          | no          | 0.049039736 | \n",
       "| no          | no          | 0.007867599 | \n",
       "| no          | yes         | 0.861489214 | \n",
       "| no          | no          | 0.011577785 | \n",
       "\n",
       "\n"
      ],
      "text/plain": [
       "  truth estimate class_prob \n",
       "1 no    no       0.051672459\n",
       "2 no    no       0.180447163\n",
       "3 no    no       0.049039736\n",
       "4 no    no       0.007867599\n",
       "5 no    yes      0.861489214\n",
       "6 no    no       0.011577785"
      ]
     },
     "metadata": {},
     "output_type": "display_data"
    }
   ],
   "source": [
    "library(forcats)\n",
    "options(yardstick.event_first = FALSE)\n",
    "tbl_estimates <- tibble(\n",
    "    truth      = as.factor(vec_test_y) %>% fct_recode(yes = \"1\", no = \"0\"),\n",
    "    estimate   = as.factor(vec_est_y) %>% fct_recode(yes = \"1\", no = \"0\"),\n",
    "    class_prob = vec_pred_y\n",
    ")\n",
    "\n",
    "head(tbl_estimates)"
   ]
  },
  {
   "cell_type": "code",
   "execution_count": 24,
   "metadata": {},
   "outputs": [
    {
     "data": {
      "image/png": "[encoded data removed]",
      "text/plain": [
       "plot without title"
      ]
     },
     "metadata": {},
     "output_type": "display_data"
    }
   ],
   "source": [
    "plotROC(actuals = vec_test_y, predictedScores = vec_pred_y)"
   ]
  },
  {
   "cell_type": "code",
   "execution_count": 25,
   "metadata": {},
   "outputs": [
    {
     "data": {
      "image/png": "[encoded data removed]",
      "text/plain": [
       "plot without title"
      ]
     },
     "metadata": {},
     "output_type": "display_data"
    }
   ],
   "source": [
    "ks_plot(actuals = as.numeric(vec_test_y), predictedScores = vec_est_y)"
   ]
  },
  {
   "cell_type": "code",
   "execution_count": null,
   "metadata": {},
   "outputs": [],
   "source": []
  },
  {
   "cell_type": "code",
   "execution_count": 26,
   "metadata": {},
   "outputs": [
    {
     "data": {
      "text/html": [
       "0.484568802302558"
      ],
      "text/latex": [
       "0.484568802302558"
      ],
      "text/markdown": [
       "0.484568802302558"
      ],
      "text/plain": [
       "[1] 0.4845688"
      ]
     },
     "metadata": {},
     "output_type": "display_data"
    }
   ],
   "source": [
    "optimalCutoff(vec_test_y, vec_pred_y)"
   ]
  },
  {
   "cell_type": "code",
   "execution_count": 27,
   "metadata": {},
   "outputs": [
    {
     "data": {
      "text/plain": [
       "          Truth\n",
       "Prediction   no  yes\n",
       "       no  1150  233\n",
       "       yes  124  251"
      ]
     },
     "metadata": {},
     "output_type": "display_data"
    }
   ],
   "source": [
    "tbl_estimates %>% conf_mat(truth, estimate)"
   ]
  },
  {
   "cell_type": "code",
   "execution_count": 45,
   "metadata": {},
   "outputs": [
    {
     "data": {
      "text/html": [
       "<table>\n",
       "<thead><tr><th scope=col>accuracy</th></tr></thead>\n",
       "<tbody>\n",
       "\t<tr><td>0.7969283</td></tr>\n",
       "</tbody>\n",
       "</table>\n"
      ],
      "text/latex": [
       "\\begin{tabular}{r|l}\n",
       " accuracy\\\\\n",
       "\\hline\n",
       "\t 0.7969283\\\\\n",
       "\\end{tabular}\n"
      ],
      "text/markdown": [
       "\n",
       "accuracy | \n",
       "|---|\n",
       "| 0.7969283 | \n",
       "\n",
       "\n"
      ],
      "text/plain": [
       "  accuracy \n",
       "1 0.7969283"
      ]
     },
     "metadata": {},
     "output_type": "display_data"
    }
   ],
   "source": [
    "# Accuracy\n",
    "tbl_estimates %>% metrics(truth, estimate)"
   ]
  },
  {
   "cell_type": "code",
   "execution_count": 44,
   "metadata": {},
   "outputs": [
    {
     "data": {
      "text/html": [
       "<table>\n",
       "<thead><tr><th scope=col>precision</th><th scope=col>recall</th></tr></thead>\n",
       "<tbody>\n",
       "\t<tr><td>0.6693333</td><td>0.518595 </td></tr>\n",
       "</tbody>\n",
       "</table>\n"
      ],
      "text/latex": [
       "\\begin{tabular}{r|ll}\n",
       " precision & recall\\\\\n",
       "\\hline\n",
       "\t 0.6693333 & 0.518595 \\\\\n",
       "\\end{tabular}\n"
      ],
      "text/markdown": [
       "\n",
       "precision | recall | \n",
       "|---|\n",
       "| 0.6693333 | 0.518595  | \n",
       "\n",
       "\n"
      ],
      "text/plain": [
       "  precision recall  \n",
       "1 0.6693333 0.518595"
      ]
     },
     "metadata": {},
     "output_type": "display_data"
    }
   ],
   "source": [
    "# Precision\n",
    "tibble(\n",
    "    precision = tbl_estimates %>% precision(truth, estimate),\n",
    "    recall    = tbl_estimates %>% recall(truth, estimate)\n",
    ")"
   ]
  }
 ],
 "metadata": {
  "kernelspec": {
   "display_name": "R",
   "language": "R",
   "name": "ir"
  },
  "language_info": {
   "codemirror_mode": "r",
   "file_extension": ".r",
   "mimetype": "text/x-r-source",
   "name": "R",
   "pygments_lexer": "r",
   "version": "3.5.1"
  }
 },
 "nbformat": 4,
 "nbformat_minor": 2
}
