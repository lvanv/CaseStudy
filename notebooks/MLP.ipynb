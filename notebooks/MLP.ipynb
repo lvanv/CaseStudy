{
 "cells": [
  {
   "cell_type": "code",
   "execution_count": null,
   "metadata": {},
   "outputs": [],
   "source": [
    "#pkgs <- c(\"keras\", \"lime\", \"tidyquant\", \"rsample\", \"recipes\", \"yardstick\", \"corrr\")\n",
    "#install.packages(pkgs)"
   ]
  },
  {
   "cell_type": "code",
   "execution_count": 1,
   "metadata": {},
   "outputs": [
    {
     "name": "stderr",
     "output_type": "stream",
     "text": [
      "Loading required package: lubridate\n",
      "\n",
      "Attaching package: 'lubridate'\n",
      "\n",
      "The following object is masked from 'package:base':\n",
      "\n",
      "    date\n",
      "\n",
      "Loading required package: PerformanceAnalytics\n",
      "Loading required package: xts\n",
      "Loading required package: zoo\n",
      "\n",
      "Attaching package: 'zoo'\n",
      "\n",
      "The following objects are masked from 'package:base':\n",
      "\n",
      "    as.Date, as.Date.numeric\n",
      "\n",
      "\n",
      "Attaching package: 'PerformanceAnalytics'\n",
      "\n",
      "The following object is masked from 'package:graphics':\n",
      "\n",
      "    legend\n",
      "\n",
      "Loading required package: quantmod\n",
      "Loading required package: TTR\n",
      "Version 0.4-0 included new data defaults. See ?getSymbols.\n",
      "Loading required package: tidyverse\n",
      "-- Attaching packages --------------------------------------- tidyverse 1.2.1 --\n",
      "v ggplot2 3.0.0     v purrr   0.2.5\n",
      "v tibble  1.4.2     v dplyr   0.7.6\n",
      "v tidyr   0.8.1     v stringr 1.3.1\n",
      "v readr   1.1.1     v forcats 0.3.0\n",
      "-- Conflicts ------------------------------------------ tidyverse_conflicts() --\n",
      "x lubridate::as.difftime() masks base::as.difftime()\n",
      "x lubridate::date()        masks base::date()\n",
      "x dplyr::explain()         masks lime::explain()\n",
      "x dplyr::filter()          masks stats::filter()\n",
      "x dplyr::first()           masks xts::first()\n",
      "x lubridate::intersect()   masks base::intersect()\n",
      "x dplyr::lag()             masks stats::lag()\n",
      "x dplyr::last()            masks xts::last()\n",
      "x lubridate::setdiff()     masks base::setdiff()\n",
      "x lubridate::union()       masks base::union()\n",
      "Loading required package: broom\n",
      "\n",
      "Attaching package: 'rsample'\n",
      "\n",
      "The following object is masked from 'package:tidyr':\n",
      "\n",
      "    fill\n",
      "\n",
      "\n",
      "Attaching package: 'recipes'\n",
      "\n",
      "The following object is masked from 'package:stringr':\n",
      "\n",
      "    fixed\n",
      "\n",
      "The following object is masked from 'package:stats':\n",
      "\n",
      "    step\n",
      "\n",
      "\n",
      "Attaching package: 'yardstick'\n",
      "\n",
      "The following object is masked from 'package:readr':\n",
      "\n",
      "    spec\n",
      "\n"
     ]
    }
   ],
   "source": [
    "library(keras)\n",
    "library(lime)\n",
    "library(tidyquant)\n",
    "library(rsample)\n",
    "library(recipes)\n",
    "library(yardstick)\n",
    "library(corrr)"
   ]
  },
  {
   "cell_type": "code",
   "execution_count": 2,
   "metadata": {},
   "outputs": [],
   "source": [
    "df_train_x <- read.csv(\"../data/df_train_x.csv\") %>% select(-X) %>% data.matrix\n",
    "df_test_x <- read.csv(\"../data/df_test_x.csv\") %>% select(-X) %>% data.matrix\n",
    "vec_train_y <- read.csv(\"../data/vec_train_y.csv\") %>% select(-X) %>% data.matrix\n",
    "vec_test_y <- read.csv(\"../data/vec_test_y.csv\") %>% select(-X) %>% data.matrix\n"
   ]
  },
  {
   "cell_type": "code",
   "execution_count": null,
   "metadata": {},
   "outputs": [],
   "source": [
    "#install_keras()"
   ]
  },
  {
   "cell_type": "code",
   "execution_count": 3,
   "metadata": {},
   "outputs": [
    {
     "data": {
      "text/plain": [
       "Model\n",
       "________________________________________________________________________________\n",
       "Layer (type)                        Output Shape                    Param #     \n",
       "================================================================================\n",
       "dense_1 (Dense)                     (None, 16)                      672         \n",
       "________________________________________________________________________________\n",
       "dropout_1 (Dropout)                 (None, 16)                      0           \n",
       "________________________________________________________________________________\n",
       "dense_2 (Dense)                     (None, 16)                      272         \n",
       "________________________________________________________________________________\n",
       "dropout_2 (Dropout)                 (None, 16)                      0           \n",
       "________________________________________________________________________________\n",
       "dense_3 (Dense)                     (None, 1)                       17          \n",
       "================================================================================\n",
       "Total params: 961\n",
       "Trainable params: 961\n",
       "Non-trainable params: 0\n",
       "________________________________________________________________________________\n",
       "\n"
      ]
     },
     "metadata": {},
     "output_type": "display_data"
    }
   ],
   "source": [
    "model_keras <- keras_model_sequential()\n",
    "\n",
    "model_keras %>% \n",
    "    # First hidden layer\n",
    "    layer_dense(\n",
    "        units              = 16, \n",
    "        kernel_initializer = \"uniform\", \n",
    "        activation         = \"relu\", \n",
    "        input_shape        = ncol(df_train_x)) %>% \n",
    "    # Dropout to prevent overfitting\n",
    "    layer_dropout(rate = 0.1) %>%\n",
    "    # Second hidden layer\n",
    "    layer_dense(\n",
    "        units              = 16, \n",
    "        kernel_initializer = \"uniform\", \n",
    "        activation         = \"relu\") %>% \n",
    "    # Dropout to prevent overfitting\n",
    "    layer_dropout(rate = 0.1) %>%\n",
    "    # Output layer\n",
    "    layer_dense(\n",
    "        units              = 1, \n",
    "        kernel_initializer = \"uniform\", \n",
    "        activation         = \"sigmoid\") %>% \n",
    "    # Compile ANN\n",
    "    compile(\n",
    "        optimizer = 'adam',\n",
    "        loss      = 'binary_crossentropy',\n",
    "        metrics   = c('accuracy')\n",
    "    )\n",
    "model_keras"
   ]
  },
  {
   "cell_type": "code",
   "execution_count": 4,
   "metadata": {},
   "outputs": [],
   "source": [
    "# Fit the keras model to the training data\n",
    "base_model <- fit(\n",
    "    object           = model_keras, \n",
    "    x                = df_train_x, \n",
    "    y                = vec_train_y,\n",
    "    batch_size       = 40, \n",
    "    epochs           = 30,\n",
    "    validation_split = 0.35\n",
    "    )"
   ]
  },
  {
   "cell_type": "code",
   "execution_count": 5,
   "metadata": {},
   "outputs": [
    {
     "data": {},
     "metadata": {},
     "output_type": "display_data"
    },
    {
     "data": {
      "image/png": "[encoded data removed]",
      "text/plain": [
       "plot without title"
      ]
     },
     "metadata": {},
     "output_type": "display_data"
    }
   ],
   "source": [
    "plot(base_model) +\n",
    "    theme_tq() +\n",
    "    scale_color_tq() +\n",
    "    scale_fill_tq() +\n",
    "    labs(title = \"Deep Learning Training Results\")"
   ]
  },
  {
   "cell_type": "code",
   "execution_count": 6,
   "metadata": {},
   "outputs": [],
   "source": [
    "vec_pred_y <- predict_proba(object = model_keras, x = df_test_x)"
   ]
  },
  {
   "cell_type": "code",
   "execution_count": null,
   "metadata": {},
   "outputs": [],
   "source": []
  },
  {
   "cell_type": "code",
   "execution_count": 7,
   "metadata": {},
   "outputs": [],
   "source": [
    "# Predicted Class\n",
    "yhat_keras_class_vec <- predict_classes(object = model_keras, x = df_test_x) %>%\n",
    "    as.vector()\n",
    "\n",
    "# Predicted Class Probability\n",
    "yhat_keras_prob_vec  <- predict_proba(object = model_keras, x = df_test_x) %>%\n",
    "    as.vector()"
   ]
  },
  {
   "cell_type": "code",
   "execution_count": 8,
   "metadata": {},
   "outputs": [
    {
     "data": {
      "text/html": [
       "<table>\n",
       "<thead><tr><th scope=col>truth</th><th scope=col>estimate</th><th scope=col>class_prob</th></tr></thead>\n",
       "<tbody>\n",
       "\t<tr><td>no         </td><td>no         </td><td>0.037652954</td></tr>\n",
       "\t<tr><td>no         </td><td>no         </td><td>0.148298129</td></tr>\n",
       "\t<tr><td>no         </td><td>no         </td><td>0.020644806</td></tr>\n",
       "\t<tr><td>no         </td><td>no         </td><td>0.002335682</td></tr>\n",
       "\t<tr><td>no         </td><td>yes        </td><td>0.798685193</td></tr>\n",
       "\t<tr><td>no         </td><td>no         </td><td>0.003737462</td></tr>\n",
       "</tbody>\n",
       "</table>\n"
      ],
      "text/latex": [
       "\\begin{tabular}{r|lll}\n",
       " truth & estimate & class\\_prob\\\\\n",
       "\\hline\n",
       "\t no          & no          & 0.037652954\\\\\n",
       "\t no          & no          & 0.148298129\\\\\n",
       "\t no          & no          & 0.020644806\\\\\n",
       "\t no          & no          & 0.002335682\\\\\n",
       "\t no          & yes         & 0.798685193\\\\\n",
       "\t no          & no          & 0.003737462\\\\\n",
       "\\end{tabular}\n"
      ],
      "text/markdown": [
       "\n",
       "truth | estimate | class_prob | \n",
       "|---|---|---|---|---|---|\n",
       "| no          | no          | 0.037652954 | \n",
       "| no          | no          | 0.148298129 | \n",
       "| no          | no          | 0.020644806 | \n",
       "| no          | no          | 0.002335682 | \n",
       "| no          | yes         | 0.798685193 | \n",
       "| no          | no          | 0.003737462 | \n",
       "\n",
       "\n"
      ],
      "text/plain": [
       "  truth estimate class_prob \n",
       "1 no    no       0.037652954\n",
       "2 no    no       0.148298129\n",
       "3 no    no       0.020644806\n",
       "4 no    no       0.002335682\n",
       "5 no    yes      0.798685193\n",
       "6 no    no       0.003737462"
      ]
     },
     "metadata": {},
     "output_type": "display_data"
    }
   ],
   "source": [
    "estimates_keras_tbl <- tibble(\n",
    "    truth      = as.factor(vec_test_y) %>% fct_recode(yes = \"1\", no = \"0\"),\n",
    "    estimate   = as.factor(yhat_keras_class_vec) %>% fct_recode(yes = \"1\", no = \"0\"),\n",
    "    class_prob = yhat_keras_prob_vec\n",
    ")\n",
    "\n",
    "head(estimates_keras_tbl)"
   ]
  },
  {
   "cell_type": "code",
   "execution_count": 9,
   "metadata": {},
   "outputs": [
    {
     "data": {
      "text/plain": [
       "          Truth\n",
       "Prediction   no  yes\n",
       "       no  1146  231\n",
       "       yes  128  253"
      ]
     },
     "metadata": {},
     "output_type": "display_data"
    }
   ],
   "source": [
    "estimates_keras_tbl %>% conf_mat(truth, estimate)"
   ]
  },
  {
   "cell_type": "code",
   "execution_count": 10,
   "metadata": {},
   "outputs": [
    {
     "data": {
      "text/html": [
       "<table>\n",
       "<thead><tr><th scope=col>accuracy</th></tr></thead>\n",
       "<tbody>\n",
       "\t<tr><td>0.7957907</td></tr>\n",
       "</tbody>\n",
       "</table>\n"
      ],
      "text/latex": [
       "\\begin{tabular}{r|l}\n",
       " accuracy\\\\\n",
       "\\hline\n",
       "\t 0.7957907\\\\\n",
       "\\end{tabular}\n"
      ],
      "text/markdown": [
       "\n",
       "accuracy | \n",
       "|---|\n",
       "| 0.7957907 | \n",
       "\n",
       "\n"
      ],
      "text/plain": [
       "  accuracy \n",
       "1 0.7957907"
      ]
     },
     "metadata": {},
     "output_type": "display_data"
    }
   ],
   "source": [
    "# Accuracy\n",
    "estimates_keras_tbl %>% metrics(truth, estimate)"
   ]
  },
  {
   "cell_type": "code",
   "execution_count": 11,
   "metadata": {},
   "outputs": [
    {
     "data": {
      "text/html": [
       "0.834117181519779"
      ],
      "text/latex": [
       "0.834117181519779"
      ],
      "text/markdown": [
       "0.834117181519779"
      ],
      "text/plain": [
       "[1] 0.8341172"
      ]
     },
     "metadata": {},
     "output_type": "display_data"
    }
   ],
   "source": [
    "estimates_keras_tbl %>% roc_auc(truth, class_prob)"
   ]
  },
  {
   "cell_type": "code",
   "execution_count": 12,
   "metadata": {},
   "outputs": [
    {
     "data": {
      "text/html": [
       "0.864579403998491"
      ],
      "text/latex": [
       "0.864579403998491"
      ],
      "text/markdown": [
       "0.864579403998491"
      ],
      "text/plain": [
       "[1] 0.8645794"
      ]
     },
     "metadata": {},
     "output_type": "display_data"
    }
   ],
   "source": [
    "estimates_keras_tbl %>% f_meas(truth, estimate, beta=1)"
   ]
  },
  {
   "cell_type": "code",
   "execution_count": 13,
   "metadata": {},
   "outputs": [
    {
     "data": {
      "text/html": [
       "<table>\n",
       "<thead><tr><th scope=col>precision</th><th scope=col>recall</th></tr></thead>\n",
       "<tbody>\n",
       "\t<tr><td>0.832244</td><td>0.899529</td></tr>\n",
       "</tbody>\n",
       "</table>\n"
      ],
      "text/latex": [
       "\\begin{tabular}{r|ll}\n",
       " precision & recall\\\\\n",
       "\\hline\n",
       "\t 0.832244 & 0.899529\\\\\n",
       "\\end{tabular}\n"
      ],
      "text/markdown": [
       "\n",
       "precision | recall | \n",
       "|---|\n",
       "| 0.832244 | 0.899529 | \n",
       "\n",
       "\n"
      ],
      "text/plain": [
       "  precision recall  \n",
       "1 0.832244  0.899529"
      ]
     },
     "metadata": {},
     "output_type": "display_data"
    }
   ],
   "source": [
    "# Precision\n",
    "tibble(\n",
    "    precision = estimates_keras_tbl %>% precision(truth, estimate),\n",
    "    recall    = estimates_keras_tbl %>% recall(truth, estimate)\n",
    ")"
   ]
  },
  {
   "cell_type": "code",
   "execution_count": 14,
   "metadata": {},
   "outputs": [
    {
     "name": "stderr",
     "output_type": "stream",
     "text": [
      "\n",
      "Attaching package: 'InformationValue'\n",
      "\n",
      "The following objects are masked from 'package:yardstick':\n",
      "\n",
      "    npv, precision\n",
      "\n"
     ]
    }
   ],
   "source": [
    "library(InformationValue)"
   ]
  },
  {
   "cell_type": "code",
   "execution_count": 18,
   "metadata": {},
   "outputs": [
    {
     "data": {
      "image/png": "[encoded data removed]",
      "text/plain": [
       "plot without title"
      ]
     },
     "metadata": {},
     "output_type": "display_data"
    }
   ],
   "source": [
    "plotROC(actuals = as.numeric(vec_test_y), predictedScores = vec_pred_y)"
   ]
  },
  {
   "cell_type": "code",
   "execution_count": 19,
   "metadata": {},
   "outputs": [
    {
     "data": {
      "image/png": "[encoded data removed]",
      "text/plain": [
       "plot without title"
      ]
     },
     "metadata": {},
     "output_type": "display_data"
    }
   ],
   "source": [
    "ks_plot(actuals = as.numeric(vec_test_y), predictedScores = vec_pred_y)"
   ]
  }
 ],
 "metadata": {
  "kernelspec": {
   "display_name": "R",
   "language": "R",
   "name": "ir"
  },
  "language_info": {
   "codemirror_mode": "r",
   "file_extension": ".r",
   "mimetype": "text/x-r-source",
   "name": "R",
   "pygments_lexer": "r",
   "version": "3.5.1"
  }
 },
 "nbformat": 4,
 "nbformat_minor": 2
}
