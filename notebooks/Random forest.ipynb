{
 "cells": [
  {
   "cell_type": "code",
   "execution_count": 1,
   "metadata": {},
   "outputs": [
    {
     "name": "stderr",
     "output_type": "stream",
     "text": [
      "\n",
      "Attaching package: 'dplyr'\n",
      "\n",
      "The following objects are masked from 'package:stats':\n",
      "\n",
      "    filter, lag\n",
      "\n",
      "The following objects are masked from 'package:base':\n",
      "\n",
      "    intersect, setdiff, setequal, union\n",
      "\n",
      "Loading required package: broom\n",
      "Loading required package: tidyr\n",
      "\n",
      "Attaching package: 'rsample'\n",
      "\n",
      "The following object is masked from 'package:tidyr':\n",
      "\n",
      "    fill\n",
      "\n"
     ]
    }
   ],
   "source": [
    "#install.packages(\"ranger\")\n",
    "\n",
    "library(ranger)\n",
    "library(dplyr)\n",
    "library(rsample)\n",
    "library(ggplot2)"
   ]
  },
  {
   "cell_type": "code",
   "execution_count": null,
   "metadata": {},
   "outputs": [],
   "source": []
  },
  {
   "cell_type": "code",
   "execution_count": 2,
   "metadata": {},
   "outputs": [],
   "source": [
    "df_data <- read.csv(\"../data/cust_churn.csv\", fileEncoding = \"UTF-8-BOM\", stringsAsFactors = F) %>% na.omit() %>% select(-customerID) %>% mutate(Churn = as.numeric(Churn == \"Yes\"))"
   ]
  },
  {
   "cell_type": "code",
   "execution_count": 3,
   "metadata": {},
   "outputs": [],
   "source": [
    "split_set <- initial_split(df_data, prop = 0.75)"
   ]
  },
  {
   "cell_type": "code",
   "execution_count": 4,
   "metadata": {},
   "outputs": [],
   "source": [
    "df_train <- training(split_set)\n",
    "df_test <- testing(split_set)"
   ]
  },
  {
   "cell_type": "code",
   "execution_count": 5,
   "metadata": {},
   "outputs": [],
   "source": [
    "base_model <- ranger(\n",
    "    formula = Churn ~ .,\n",
    "    data = df_train,\n",
    "    importance = \"impurity\"\n",
    ")"
   ]
  },
  {
   "cell_type": "code",
   "execution_count": 6,
   "metadata": {},
   "outputs": [
    {
     "data": {
      "text/plain": [
       "Ranger result\n",
       "\n",
       "Call:\n",
       " ranger(formula = Churn ~ ., data = df_train, importance = \"impurity\") \n",
       "\n",
       "Type:                             Regression \n",
       "Number of trees:                  500 \n",
       "Sample size:                      5274 \n",
       "Number of independent variables:  19 \n",
       "Mtry:                             4 \n",
       "Target node size:                 5 \n",
       "Variable importance mode:         impurity \n",
       "Splitrule:                        variance \n",
       "OOB prediction error (MSE):       0.1418916 \n",
       "R squared (OOB):                  0.2815163 "
      ]
     },
     "metadata": {},
     "output_type": "display_data"
    }
   ],
   "source": [
    "base_model"
   ]
  },
  {
   "cell_type": "code",
   "execution_count": 21,
   "metadata": {},
   "outputs": [],
   "source": [
    "library(InformationValue)\n",
    "library(yardstick)"
   ]
  },
  {
   "cell_type": "code",
   "execution_count": 22,
   "metadata": {},
   "outputs": [],
   "source": [
    "vec_pred_y <- predict(base_model, df_test %>% select(-Churn))[[\"predictions\"]]\n",
    "vec_test_y <- df_test$Churn %>% as.vector()"
   ]
  },
  {
   "cell_type": "code",
   "execution_count": 23,
   "metadata": {},
   "outputs": [],
   "source": [
    "#opt_cut <- optimalCutoff(vec_test_y, vec_pred_y)\n",
    "vec_est_y <- ifelse(vec_pred_y <= 0.5, 0, 1)"
   ]
  },
  {
   "cell_type": "code",
   "execution_count": 24,
   "metadata": {},
   "outputs": [
    {
     "data": {
      "text/html": [
       "<table>\n",
       "<thead><tr><th scope=col>truth</th><th scope=col>estimate</th><th scope=col>class_prob</th></tr></thead>\n",
       "<tbody>\n",
       "\t<tr><td>no        </td><td>no        </td><td>0.02949641</td></tr>\n",
       "\t<tr><td>no        </td><td>no        </td><td>0.46661622</td></tr>\n",
       "\t<tr><td>no        </td><td>no        </td><td>0.03671632</td></tr>\n",
       "\t<tr><td>no        </td><td>no        </td><td>0.07969611</td></tr>\n",
       "\t<tr><td>no        </td><td>no        </td><td>0.03830390</td></tr>\n",
       "\t<tr><td>yes       </td><td>no        </td><td>0.40646560</td></tr>\n",
       "</tbody>\n",
       "</table>\n"
      ],
      "text/latex": [
       "\\begin{tabular}{r|lll}\n",
       " truth & estimate & class\\_prob\\\\\n",
       "\\hline\n",
       "\t no         & no         & 0.02949641\\\\\n",
       "\t no         & no         & 0.46661622\\\\\n",
       "\t no         & no         & 0.03671632\\\\\n",
       "\t no         & no         & 0.07969611\\\\\n",
       "\t no         & no         & 0.03830390\\\\\n",
       "\t yes        & no         & 0.40646560\\\\\n",
       "\\end{tabular}\n"
      ],
      "text/markdown": [
       "\n",
       "truth | estimate | class_prob | \n",
       "|---|---|---|---|---|---|\n",
       "| no         | no         | 0.02949641 | \n",
       "| no         | no         | 0.46661622 | \n",
       "| no         | no         | 0.03671632 | \n",
       "| no         | no         | 0.07969611 | \n",
       "| no         | no         | 0.03830390 | \n",
       "| yes        | no         | 0.40646560 | \n",
       "\n",
       "\n"
      ],
      "text/plain": [
       "  truth estimate class_prob\n",
       "1 no    no       0.02949641\n",
       "2 no    no       0.46661622\n",
       "3 no    no       0.03671632\n",
       "4 no    no       0.07969611\n",
       "5 no    no       0.03830390\n",
       "6 yes   no       0.40646560"
      ]
     },
     "metadata": {},
     "output_type": "display_data"
    }
   ],
   "source": [
    "library(forcats)\n",
    "options(yardstick.event_first = FALSE)\n",
    "tbl_estimates <- tibble(\n",
    "    truth      = as.factor(vec_test_y) %>% fct_recode(yes = \"1\", no = \"0\"),\n",
    "    estimate   = as.factor(vec_est_y) %>% fct_recode(yes = \"1\", no = \"0\"),\n",
    "    class_prob = vec_pred_y\n",
    ")\n",
    "\n",
    "head(tbl_estimates)"
   ]
  },
  {
   "cell_type": "code",
   "execution_count": 25,
   "metadata": {},
   "outputs": [
    {
     "data": {
      "image/png": "[encoded data removed]",
      "text/plain": [
       "plot without title"
      ]
     },
     "metadata": {},
     "output_type": "display_data"
    }
   ],
   "source": [
    "plotROC(actuals = vec_test_y, predictedScores = vec_pred_y)"
   ]
  },
  {
   "cell_type": "code",
   "execution_count": 14,
   "metadata": {},
   "outputs": [
    {
     "ename": "ERROR",
     "evalue": "Error in ks_plot(actuals = as.numeric(vec_test_y), predictedScores = vec_est_y): could not find function \"ks_plot\"\n",
     "output_type": "error",
     "traceback": [
      "Error in ks_plot(actuals = as.numeric(vec_test_y), predictedScores = vec_est_y): could not find function \"ks_plot\"\nTraceback:\n"
     ]
    }
   ],
   "source": [
    "ks_plot(actuals = as.numeric(vec_test_y), predictedScores = vec_est_y)"
   ]
  },
  {
   "cell_type": "code",
   "execution_count": 15,
   "metadata": {},
   "outputs": [
    {
     "ename": "ERROR",
     "evalue": "Error in optimalCutoff(vec_test_y, vec_pred_y): could not find function \"optimalCutoff\"\n",
     "output_type": "error",
     "traceback": [
      "Error in optimalCutoff(vec_test_y, vec_pred_y): could not find function \"optimalCutoff\"\nTraceback:\n"
     ]
    }
   ],
   "source": [
    "optimalCutoff(vec_test_y, vec_pred_y)"
   ]
  },
  {
   "cell_type": "code",
   "execution_count": 16,
   "metadata": {},
   "outputs": [
    {
     "data": {
      "text/plain": [
       "          Truth\n",
       "Prediction   no  yes\n",
       "       no  1204  215\n",
       "       yes  113  226"
      ]
     },
     "metadata": {},
     "output_type": "display_data"
    }
   ],
   "source": [
    "tbl_estimates %>% conf_mat(truth, estimate)"
   ]
  },
  {
   "cell_type": "code",
   "execution_count": 17,
   "metadata": {},
   "outputs": [
    {
     "data": {
      "text/html": [
       "<table>\n",
       "<thead><tr><th scope=col>accuracy</th></tr></thead>\n",
       "<tbody>\n",
       "\t<tr><td>0.8134243</td></tr>\n",
       "</tbody>\n",
       "</table>\n"
      ],
      "text/latex": [
       "\\begin{tabular}{r|l}\n",
       " accuracy\\\\\n",
       "\\hline\n",
       "\t 0.8134243\\\\\n",
       "\\end{tabular}\n"
      ],
      "text/markdown": [
       "\n",
       "accuracy | \n",
       "|---|\n",
       "| 0.8134243 | \n",
       "\n",
       "\n"
      ],
      "text/plain": [
       "  accuracy \n",
       "1 0.8134243"
      ]
     },
     "metadata": {},
     "output_type": "display_data"
    }
   ],
   "source": [
    "# Accuracy\n",
    "tbl_estimates %>% metrics(truth, estimate)"
   ]
  },
  {
   "cell_type": "code",
   "execution_count": 18,
   "metadata": {},
   "outputs": [
    {
     "data": {
      "text/html": [
       "<table>\n",
       "<thead><tr><th scope=col>precision</th><th scope=col>recall</th></tr></thead>\n",
       "<tbody>\n",
       "\t<tr><td>0.6666667</td><td>0.5124717</td></tr>\n",
       "</tbody>\n",
       "</table>\n"
      ],
      "text/latex": [
       "\\begin{tabular}{r|ll}\n",
       " precision & recall\\\\\n",
       "\\hline\n",
       "\t 0.6666667 & 0.5124717\\\\\n",
       "\\end{tabular}\n"
      ],
      "text/markdown": [
       "\n",
       "precision | recall | \n",
       "|---|\n",
       "| 0.6666667 | 0.5124717 | \n",
       "\n",
       "\n"
      ],
      "text/plain": [
       "  precision recall   \n",
       "1 0.6666667 0.5124717"
      ]
     },
     "metadata": {},
     "output_type": "display_data"
    }
   ],
   "source": [
    "# Precision\n",
    "tibble(\n",
    "    precision = tbl_estimates %>% precision(truth, estimate),\n",
    "    recall    = tbl_estimates %>% recall(truth, estimate)\n",
    ")"
   ]
  },
  {
   "cell_type": "code",
   "execution_count": null,
   "metadata": {},
   "outputs": [],
   "source": [
    "base_model$variable.importance %>% \n",
    "  tidy() %>%\n",
    "  arrange(desc(x)) %>%\n",
    "  top_n(25) %>%\n",
    "  ggplot(aes(reorder(names, x), x)) +\n",
    "  geom_col() +\n",
    "  coord_flip() +\n",
    "  ggtitle(\"Top 25 important variables\")"
   ]
  },
  {
   "cell_type": "markdown",
   "metadata": {},
   "source": [
    "# Use standardised dataset to se if it improves the fit."
   ]
  },
  {
   "cell_type": "code",
   "execution_count": null,
   "metadata": {},
   "outputs": [],
   "source": [
    "df_train_x <- read.csv(\"../data/df_train_x.csv\") %>% select(-X)\n",
    "df_test_x <- read.csv(\"../data/df_test_x.csv\") %>% select(-X)\n",
    "vec_train_y <- read.csv(\"../data/vec_train_y.csv\") %>% select(-X)\n",
    "vec_test_y <- read.csv(\"../data/vec_test_y.csv\") %>% select(-X)\n",
    "df_train <- cbind(df_train_x, churn=vec_train_y) %>% select(churn = x, everything())\n",
    "df_test <- cbind(df_test_x, churn=vec_test_y) %>% select(churn = x, everything())"
   ]
  },
  {
   "cell_type": "code",
   "execution_count": null,
   "metadata": {},
   "outputs": [],
   "source": [
    "std_model <- ranger(\n",
    "    formula = churn ~ .,\n",
    "    data = df_train,\n",
    "    num.trees = 500,\n",
    "    importance = \"impurity\"\n",
    ")"
   ]
  },
  {
   "cell_type": "code",
   "execution_count": null,
   "metadata": {},
   "outputs": [],
   "source": [
    "vec_pred_y <- predict(std_model, df_test %>% select(-churn))[[\"predictions\"]]\n",
    "vec_test_y <- df_test$churn %>% as.vector()"
   ]
  },
  {
   "cell_type": "code",
   "execution_count": null,
   "metadata": {},
   "outputs": [],
   "source": [
    "opt_cut <- optimalCutoff(vec_test_y, vec_pred_y)\n",
    "vec_est_y <- ifelse(vec_pred_y <= opt_cut, 0, 1)"
   ]
  },
  {
   "cell_type": "code",
   "execution_count": null,
   "metadata": {},
   "outputs": [],
   "source": [
    "library(forcats)\n",
    "options(yardstick.event_first = FALSE)\n",
    "tbl_estimates <- tibble(\n",
    "    truth      = as.factor(vec_test_y) %>% fct_recode(yes = \"1\", no = \"0\"),\n",
    "    estimate   = as.factor(vec_est_y) %>% fct_recode(yes = \"1\", no = \"0\"),\n",
    "    class_prob = vec_pred_y\n",
    ")\n",
    "\n",
    "head(tbl_estimates)"
   ]
  },
  {
   "cell_type": "code",
   "execution_count": null,
   "metadata": {},
   "outputs": [],
   "source": [
    "plotROC(actuals = vec_test_y, predictedScores = vec_pred_y)"
   ]
  },
  {
   "cell_type": "code",
   "execution_count": null,
   "metadata": {},
   "outputs": [],
   "source": [
    "ks_plot(actuals = as.numeric(vec_test_y), predictedScores = vec_est_y)"
   ]
  },
  {
   "cell_type": "code",
   "execution_count": null,
   "metadata": {},
   "outputs": [],
   "source": [
    "optimalCutoff(vec_test_y, vec_pred_y)"
   ]
  },
  {
   "cell_type": "code",
   "execution_count": null,
   "metadata": {},
   "outputs": [],
   "source": [
    "tbl_estimates %>% conf_mat(truth, estimate)"
   ]
  },
  {
   "cell_type": "code",
   "execution_count": null,
   "metadata": {},
   "outputs": [],
   "source": [
    "# Accuracy\n",
    "tbl_estimates %>% metrics(truth, estimate)"
   ]
  },
  {
   "cell_type": "code",
   "execution_count": null,
   "metadata": {},
   "outputs": [],
   "source": [
    "# Precision\n",
    "tibble(\n",
    "    precision = tbl_estimates %>% precision(truth, estimate),\n",
    "    recall    = tbl_estimates %>% recall(truth, estimate)\n",
    ")"
   ]
  },
  {
   "cell_type": "markdown",
   "metadata": {},
   "source": [
    "# Tune model hyperparameters"
   ]
  },
  {
   "cell_type": "code",
   "execution_count": null,
   "metadata": {},
   "outputs": [],
   "source": [
    "library(rBayesianOptimization)"
   ]
  },
  {
   "cell_type": "code",
   "execution_count": null,
   "metadata": {},
   "outputs": [],
   "source": [
    "hyper_grid <- expand.grid(\n",
    "  mtry       = seq(20, 30, by = 2),\n",
    "  node_size  = seq(3, 9, by = 2),\n",
    "  sampe_size = c(.55, .632, .70, .80),\n",
    "  OOB_RMSE   = 0\n",
    ")\n",
    "\n",
    "# total number of combinations\n",
    "nrow(hyper_grid)\n",
    "## [1] 96"
   ]
  },
  {
   "cell_type": "code",
   "execution_count": null,
   "metadata": {},
   "outputs": [],
   "source": [
    "for(i in 1:nrow(hyper_grid)) {\n",
    "  \n",
    "  # train model\n",
    "  model <- ranger(\n",
    "    formula         = churn ~ ., \n",
    "    data            = df_train, \n",
    "    num.trees       = 500,\n",
    "    mtry            = hyper_grid$mtry[i],\n",
    "    min.node.size   = hyper_grid$node_size[i],\n",
    "    sample.fraction = hyper_grid$sampe_size[i],\n",
    "    seed            = 123\n",
    "  )\n",
    "  \n",
    "  # add OOB error to grid\n",
    "  hyper_grid$OOB_RMSE[i] <- sqrt(model$prediction.error)\n",
    "}"
   ]
  },
  {
   "cell_type": "code",
   "execution_count": null,
   "metadata": {},
   "outputs": [],
   "source": [
    "hyper_grid %>% \n",
    "  dplyr::arrange(OOB_RMSE) %>%\n",
    "  head(10)"
   ]
  },
  {
   "cell_type": "code",
   "execution_count": null,
   "metadata": {},
   "outputs": [],
   "source": []
  },
  {
   "cell_type": "code",
   "execution_count": null,
   "metadata": {},
   "outputs": [],
   "source": [
    "opt_model <- ranger(\n",
    "    formula = churn ~ .,\n",
    "    data = df_train,\n",
    "    num.trees = 1000,\n",
    "    mtry = 20,\n",
    "    min.node.size = 9,\n",
    "    sample.fraction = 0.55,\n",
    "    importance = \"impurity\"\n",
    ")"
   ]
  },
  {
   "cell_type": "code",
   "execution_count": null,
   "metadata": {},
   "outputs": [],
   "source": [
    "vec_pred_y <- predict(opt_model, df_test %>% select(-churn))[[\"predictions\"]]\n",
    "vec_test_y <- df_test$churn %>% as.vector()"
   ]
  },
  {
   "cell_type": "code",
   "execution_count": null,
   "metadata": {},
   "outputs": [],
   "source": [
    "opt_cut <- optimalCutoff(vec_test_y, vec_pred_y)\n",
    "vec_est_y <- ifelse(vec_pred_y <= opt_cut, 0, 1)"
   ]
  },
  {
   "cell_type": "code",
   "execution_count": null,
   "metadata": {},
   "outputs": [],
   "source": [
    "library(forcats)\n",
    "options(yardstick.event_first = FALSE)\n",
    "tbl_estimates <- tibble(\n",
    "    truth      = as.factor(vec_test_y) %>% fct_recode(yes = \"1\", no = \"0\"),\n",
    "    estimate   = as.factor(vec_est_y) %>% fct_recode(yes = \"1\", no = \"0\"),\n",
    "    class_prob = vec_pred_y\n",
    ")\n",
    "\n",
    "head(tbl_estimates)"
   ]
  },
  {
   "cell_type": "code",
   "execution_count": null,
   "metadata": {},
   "outputs": [],
   "source": [
    "plotROC(actuals = vec_test_y, predictedScores = vec_pred_y)"
   ]
  },
  {
   "cell_type": "code",
   "execution_count": null,
   "metadata": {},
   "outputs": [],
   "source": [
    "ks_plot(actuals = as.numeric(vec_test_y), predictedScores = vec_est_y)"
   ]
  },
  {
   "cell_type": "code",
   "execution_count": null,
   "metadata": {},
   "outputs": [],
   "source": [
    "optimalCutoff(vec_test_y, vec_pred_y)"
   ]
  },
  {
   "cell_type": "code",
   "execution_count": null,
   "metadata": {},
   "outputs": [],
   "source": [
    "tbl_estimates %>% conf_mat(truth, estimate)"
   ]
  },
  {
   "cell_type": "code",
   "execution_count": null,
   "metadata": {},
   "outputs": [],
   "source": [
    "# Accuracy\n",
    "tbl_estimates %>% metrics(truth, estimate)"
   ]
  },
  {
   "cell_type": "code",
   "execution_count": null,
   "metadata": {},
   "outputs": [],
   "source": [
    "# Precision\n",
    "tibble(\n",
    "    precision = tbl_estimates %>% precision(truth, estimate),\n",
    "    recall    = tbl_estimates %>% recall(truth, estimate)\n",
    ")"
   ]
  },
  {
   "cell_type": "code",
   "execution_count": null,
   "metadata": {},
   "outputs": [],
   "source": [
    "opt_model$variable.importance %>% \n",
    "  tidy() %>%\n",
    "  arrange(desc(x)) %>%\n",
    "  top_n(25) %>%\n",
    "  ggplot(aes(reorder(names, x), x)) +\n",
    "  geom_col() +\n",
    "  coord_flip() +\n",
    "  ggtitle(\"Top 25 important variables\")"
   ]
  }
 ],
 "metadata": {
  "kernelspec": {
   "display_name": "R",
   "language": "R",
   "name": "ir"
  },
  "language_info": {
   "codemirror_mode": "r",
   "file_extension": ".r",
   "mimetype": "text/x-r-source",
   "name": "R",
   "pygments_lexer": "r",
   "version": "3.5.1"
  }
 },
 "nbformat": 4,
 "nbformat_minor": 2
}
