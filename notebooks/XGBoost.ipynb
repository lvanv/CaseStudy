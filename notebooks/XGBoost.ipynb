{
 "cells": [
  {
   "cell_type": "code",
   "execution_count": 2,
   "metadata": {},
   "outputs": [],
   "source": [
    "library(xgboost)\n",
    "library(dplyr)\n",
    "library(rBayesianOptimization)"
   ]
  },
  {
   "cell_type": "code",
   "execution_count": 3,
   "metadata": {},
   "outputs": [],
   "source": [
    "df_train_x <- read.csv(\"../data/df_train_x.csv\") %>% select(-X) %>% data.matrix\n",
    "df_test_x <- read.csv(\"../data/df_test_x.csv\") %>% select(-X) %>% data.matrix\n",
    "vec_train_y <- read.csv(\"../data/vec_train_y.csv\") %>% select(-X) %>% data.matrix\n",
    "vec_test_y <- read.csv(\"../data/vec_test_y.csv\") %>% select(-X) %>% data.matrix\n"
   ]
  },
  {
   "cell_type": "code",
   "execution_count": 4,
   "metadata": {},
   "outputs": [],
   "source": [
    "dtrain <- xgb.DMatrix(data = df_train_x, label = vec_train_y)\n",
    "dtest <- xgb.DMatrix(data = df_test_x, label = vec_test_y)"
   ]
  },
  {
   "cell_type": "code",
   "execution_count": 5,
   "metadata": {},
   "outputs": [
    {
     "name": "stdout",
     "output_type": "stream",
     "text": [
      "[1]\tvalidation1-auc:0.808163 \n",
      "Will train until validation1_auc hasn't improved in 5 rounds.\n",
      "\n",
      "[2]\tvalidation1-auc:0.818779 \n",
      "[3]\tvalidation1-auc:0.819330 \n",
      "[4]\tvalidation1-auc:0.823855 \n",
      "[5]\tvalidation1-auc:0.826207 \n",
      "[6]\tvalidation1-auc:0.825159 \n",
      "[7]\tvalidation1-auc:0.828950 \n",
      "[8]\tvalidation1-auc:0.828250 \n",
      "[9]\tvalidation1-auc:0.828671 \n",
      "[10]\tvalidation1-auc:0.828895 \n",
      "[11]\tvalidation1-auc:0.830872 \n",
      "[12]\tvalidation1-auc:0.830298 \n",
      "[13]\tvalidation1-auc:0.830656 \n",
      "[14]\tvalidation1-auc:0.830441 \n",
      "[15]\tvalidation1-auc:0.829372 \n",
      "[16]\tvalidation1-auc:0.828130 \n",
      "Stopping. Best iteration:\n",
      "[11]\tvalidation1-auc:0.830872\n",
      "\n"
     ]
    }
   ],
   "source": [
    "base_model <- xgb.train(params = list(\n",
    "                             objective = \"binary:logistic\",\n",
    "                             eval_metric = \"auc\"),\n",
    "                        data = dtrain, \n",
    "                        nround = 500,\n",
    "                        watchlist=list(validation1=dtest),\n",
    "                        early_stopping_rounds = 5)"
   ]
  },
  {
   "cell_type": "code",
   "execution_count": 7,
   "metadata": {},
   "outputs": [
    {
     "name": "stderr",
     "output_type": "stream",
     "text": [
      "Loading required package: broom\n",
      "\n",
      "Attaching package: 'yardstick'\n",
      "\n",
      "The following objects are masked from 'package:InformationValue':\n",
      "\n",
      "    npv, precision\n",
      "\n"
     ]
    }
   ],
   "source": [
    "#install.packages(\"InformationValue\")\n",
    "library(InformationValue)\n",
    "library(yardstick)\n"
   ]
  },
  {
   "cell_type": "code",
   "execution_count": 8,
   "metadata": {},
   "outputs": [],
   "source": [
    "vec_pred_y <- predict(base_model, dtest)\n",
    "opt_cut <- optimalCutoff(vec_test_y, vec_pred_y)\n",
    "vec_est_y <- ifelse(vec_pred_y <= opt_cut, 0, 1)\n"
   ]
  },
  {
   "cell_type": "code",
   "execution_count": 9,
   "metadata": {},
   "outputs": [
    {
     "data": {
      "text/html": [
       "<table>\n",
       "<thead><tr><th scope=col>truth</th><th scope=col>estimate</th><th scope=col>class_prob</th></tr></thead>\n",
       "<tbody>\n",
       "\t<tr><td>no        </td><td>no        </td><td>0.06031061</td></tr>\n",
       "\t<tr><td>no        </td><td>no        </td><td>0.26500404</td></tr>\n",
       "\t<tr><td>no        </td><td>no        </td><td>0.14983955</td></tr>\n",
       "\t<tr><td>no        </td><td>no        </td><td>0.02391434</td></tr>\n",
       "\t<tr><td>no        </td><td>yes       </td><td>0.77201778</td></tr>\n",
       "\t<tr><td>no        </td><td>no        </td><td>0.02391434</td></tr>\n",
       "</tbody>\n",
       "</table>\n"
      ],
      "text/latex": [
       "\\begin{tabular}{r|lll}\n",
       " truth & estimate & class\\_prob\\\\\n",
       "\\hline\n",
       "\t no         & no         & 0.06031061\\\\\n",
       "\t no         & no         & 0.26500404\\\\\n",
       "\t no         & no         & 0.14983955\\\\\n",
       "\t no         & no         & 0.02391434\\\\\n",
       "\t no         & yes        & 0.77201778\\\\\n",
       "\t no         & no         & 0.02391434\\\\\n",
       "\\end{tabular}\n"
      ],
      "text/markdown": [
       "\n",
       "truth | estimate | class_prob | \n",
       "|---|---|---|---|---|---|\n",
       "| no         | no         | 0.06031061 | \n",
       "| no         | no         | 0.26500404 | \n",
       "| no         | no         | 0.14983955 | \n",
       "| no         | no         | 0.02391434 | \n",
       "| no         | yes        | 0.77201778 | \n",
       "| no         | no         | 0.02391434 | \n",
       "\n",
       "\n"
      ],
      "text/plain": [
       "  truth estimate class_prob\n",
       "1 no    no       0.06031061\n",
       "2 no    no       0.26500404\n",
       "3 no    no       0.14983955\n",
       "4 no    no       0.02391434\n",
       "5 no    yes      0.77201778\n",
       "6 no    no       0.02391434"
      ]
     },
     "metadata": {},
     "output_type": "display_data"
    }
   ],
   "source": [
    "library(forcats)\n",
    "options(yardstick.event_first = FALSE)\n",
    "tbl_estimates <- tibble(\n",
    "    truth      = as.factor(vec_test_y) %>% fct_recode(yes = \"1\", no = \"0\"),\n",
    "    estimate   = as.factor(vec_est_y) %>% fct_recode(yes = \"1\", no = \"0\"),\n",
    "    class_prob = vec_pred_y\n",
    ")\n",
    "\n",
    "head(tbl_estimates)"
   ]
  },
  {
   "cell_type": "code",
   "execution_count": 10,
   "metadata": {},
   "outputs": [
    {
     "data": {
      "image/png": "[encoded data removed]",
      "text/plain": [
       "plot without title"
      ]
     },
     "metadata": {},
     "output_type": "display_data"
    }
   ],
   "source": [
    "plotROC(actuals = vec_test_y, predictedScores = vec_pred_y)"
   ]
  },
  {
   "cell_type": "code",
   "execution_count": 11,
   "metadata": {},
   "outputs": [
    {
     "data": {
      "image/png": "[encoded data removed]",
      "text/plain": [
       "plot without title"
      ]
     },
     "metadata": {},
     "output_type": "display_data"
    }
   ],
   "source": [
    "ks_plot(actuals = as.numeric(vec_test_y), predictedScores = vec_est_y)"
   ]
  },
  {
   "cell_type": "code",
   "execution_count": 12,
   "metadata": {},
   "outputs": [
    {
     "data": {
      "text/html": [
       "0.497522773742676"
      ],
      "text/latex": [
       "0.497522773742676"
      ],
      "text/markdown": [
       "0.497522773742676"
      ],
      "text/plain": [
       "[1] 0.4975228"
      ]
     },
     "metadata": {},
     "output_type": "display_data"
    }
   ],
   "source": [
    "optimalCutoff(vec_test_y, vec_pred_y)"
   ]
  },
  {
   "cell_type": "code",
   "execution_count": 13,
   "metadata": {},
   "outputs": [
    {
     "data": {
      "text/plain": [
       "          Truth\n",
       "Prediction   no  yes\n",
       "       no  1147  238\n",
       "       yes  127  246"
      ]
     },
     "metadata": {},
     "output_type": "display_data"
    }
   ],
   "source": [
    "tbl_estimates %>% conf_mat(truth, estimate)"
   ]
  },
  {
   "cell_type": "code",
   "execution_count": 23,
   "metadata": {},
   "outputs": [
    {
     "data": {
      "text/html": [
       "<table>\n",
       "<thead><tr><th scope=col>accuracy</th></tr></thead>\n",
       "<tbody>\n",
       "\t<tr><td>0.78157</td></tr>\n",
       "</tbody>\n",
       "</table>\n"
      ],
      "text/latex": [
       "\\begin{tabular}{r|l}\n",
       " accuracy\\\\\n",
       "\\hline\n",
       "\t 0.78157\\\\\n",
       "\\end{tabular}\n"
      ],
      "text/markdown": [
       "\n",
       "accuracy | \n",
       "|---|\n",
       "| 0.78157 | \n",
       "\n",
       "\n"
      ],
      "text/plain": [
       "  accuracy\n",
       "1 0.78157 "
      ]
     },
     "metadata": {},
     "output_type": "display_data"
    }
   ],
   "source": [
    "# Accuracy\n",
    "tbl_estimates %>% metrics(truth, estimate)"
   ]
  },
  {
   "cell_type": "code",
   "execution_count": 24,
   "metadata": {},
   "outputs": [
    {
     "data": {
      "text/html": [
       "<table>\n",
       "<thead><tr><th scope=col>precision</th><th scope=col>recall</th></tr></thead>\n",
       "<tbody>\n",
       "\t<tr><td>0.6420455</td><td>0.4669421</td></tr>\n",
       "</tbody>\n",
       "</table>\n"
      ],
      "text/latex": [
       "\\begin{tabular}{r|ll}\n",
       " precision & recall\\\\\n",
       "\\hline\n",
       "\t 0.6420455 & 0.4669421\\\\\n",
       "\\end{tabular}\n"
      ],
      "text/markdown": [
       "\n",
       "precision | recall | \n",
       "|---|\n",
       "| 0.6420455 | 0.4669421 | \n",
       "\n",
       "\n"
      ],
      "text/plain": [
       "  precision recall   \n",
       "1 0.6420455 0.4669421"
      ]
     },
     "metadata": {},
     "output_type": "display_data"
    }
   ],
   "source": [
    "# Precision\n",
    "tibble(\n",
    "    precision = tbl_estimates %>% precision(truth, estimate),\n",
    "    recall    = tbl_estimates %>% recall(truth, estimate)\n",
    ")"
   ]
  },
  {
   "cell_type": "markdown",
   "metadata": {},
   "source": [
    "### Tune model hyperparameters"
   ]
  },
  {
   "cell_type": "code",
   "execution_count": 27,
   "metadata": {},
   "outputs": [
    {
     "ename": "ERROR",
     "evalue": "Error in vec_train_y$x: $ operator is invalid for atomic vectors\n",
     "output_type": "error",
     "traceback": [
      "Error in vec_train_y$x: $ operator is invalid for atomic vectors\nTraceback:\n",
      "1. KFold(vec_train_y$x, nfolds = 5, stratified = TRUE, seed = 456)",
      "2. table(target)"
     ]
    }
   ],
   "source": [
    "cv_folds <- KFold(vec_train_y, nfolds = 5,\n",
    "                  stratified = TRUE, seed = 456)\n",
    "\n",
    "xgb_cv_bayes <- function(max.depth, min_child_weight, subsample, eta) {\n",
    "  cv <- xgb.cv(params = list(booster = \"gbtree\", eta = eta,\n",
    "                             max_depth = max.depth,\n",
    "                             min_child_weight = min_child_weight,\n",
    "                             subsample = subsample, colsample_bytree = 0.3,\n",
    "                             lambda = 1, alpha = 0,\n",
    "                             objective = \"binary:logistic\",\n",
    "                             eval_metric = \"auc\"),\n",
    "               data = dtrain, nround = 500,\n",
    "               folds = cv_folds, prediction = TRUE, showsd = TRUE,\n",
    "               early_stopping_rounds = 5, maximize = TRUE, verbose = 0)\n",
    "  list(Score = max(cv$evaluation_log$test_auc_mean),\n",
    "       Pred = cv$pred)\n",
    "}\n",
    "OPT_Res <- BayesianOptimization(xgb_cv_bayes,\n",
    "                                bounds = list(max.depth = c(2L, 6L),\n",
    "                                              min_child_weight = c(1L, 10L),\n",
    "                                              subsample = c(0.5, 0.8),\n",
    "                                              eta = c(0.1, 0.6)),  \n",
    "                                init_grid_dt = NULL, init_points = 10, n_iter = 10,\n",
    "                                acq = \"ucb\", kappa = 2.576, eps = 0.0,\n",
    "                                verbose = TRUE)\n"
   ]
  },
  {
   "cell_type": "code",
   "execution_count": 16,
   "metadata": {},
   "outputs": [],
   "source": [
    "opt_model <- xgb.train(params = list(booster = \"gbtree\", eta = OPT_Res$Best_Par[\"eta\"],\n",
    "                             max_depth = OPT_Res$Best_Par[\"max.depth\"],\n",
    "                             min_child_weight = OPT_Res$Best_Par[\"min_child_weight\"],\n",
    "                             subsample = OPT_Res$Best_Par[\"subsample\"], colsample_bytree = 0.3,\n",
    "                             lambda = 1, alpha = 0,\n",
    "                             objective = \"binary:logistic\",\n",
    "                             eval_metric = \"auc\"),\n",
    "               data = dtrain, nround = 500, watchlist=list(validation1=dtest),\n",
    "               early_stopping_rounds = 5, maximize = TRUE, verbose = 0)"
   ]
  },
  {
   "cell_type": "code",
   "execution_count": 17,
   "metadata": {},
   "outputs": [],
   "source": [
    "vec_pred_y <- predict(opt_model, dtest)\n",
    "opt_cut <- optimalCutoff(vec_test_y, vec_pred_y)\n",
    "vec_est_y <- ifelse(vec_pred_y <= opt_cut, 0, 1)\n"
   ]
  },
  {
   "cell_type": "code",
   "execution_count": 18,
   "metadata": {},
   "outputs": [
    {
     "data": {
      "text/html": [
       "<table>\n",
       "<thead><tr><th scope=col>truth</th><th scope=col>estimate</th><th scope=col>class_prob</th></tr></thead>\n",
       "<tbody>\n",
       "\t<tr><td>no        </td><td>no        </td><td>0.08156163</td></tr>\n",
       "\t<tr><td>no        </td><td>no        </td><td>0.26513103</td></tr>\n",
       "\t<tr><td>no        </td><td>no        </td><td>0.05185239</td></tr>\n",
       "\t<tr><td>no        </td><td>no        </td><td>0.06271095</td></tr>\n",
       "\t<tr><td>no        </td><td>yes       </td><td>0.55560333</td></tr>\n",
       "\t<tr><td>no        </td><td>no        </td><td>0.05915695</td></tr>\n",
       "</tbody>\n",
       "</table>\n"
      ],
      "text/latex": [
       "\\begin{tabular}{r|lll}\n",
       " truth & estimate & class\\_prob\\\\\n",
       "\\hline\n",
       "\t no         & no         & 0.08156163\\\\\n",
       "\t no         & no         & 0.26513103\\\\\n",
       "\t no         & no         & 0.05185239\\\\\n",
       "\t no         & no         & 0.06271095\\\\\n",
       "\t no         & yes        & 0.55560333\\\\\n",
       "\t no         & no         & 0.05915695\\\\\n",
       "\\end{tabular}\n"
      ],
      "text/markdown": [
       "\n",
       "truth | estimate | class_prob | \n",
       "|---|---|---|---|---|---|\n",
       "| no         | no         | 0.08156163 | \n",
       "| no         | no         | 0.26513103 | \n",
       "| no         | no         | 0.05185239 | \n",
       "| no         | no         | 0.06271095 | \n",
       "| no         | yes        | 0.55560333 | \n",
       "| no         | no         | 0.05915695 | \n",
       "\n",
       "\n"
      ],
      "text/plain": [
       "  truth estimate class_prob\n",
       "1 no    no       0.08156163\n",
       "2 no    no       0.26513103\n",
       "3 no    no       0.05185239\n",
       "4 no    no       0.06271095\n",
       "5 no    yes      0.55560333\n",
       "6 no    no       0.05915695"
      ]
     },
     "metadata": {},
     "output_type": "display_data"
    }
   ],
   "source": [
    "library(forcats)\n",
    "options(yardstick.event_first = FALSE)\n",
    "tbl_estimates <- tibble(\n",
    "    truth      = as.factor(vec_test_y) %>% fct_recode(yes = \"1\", no = \"0\"),\n",
    "    estimate   = as.factor(vec_est_y) %>% fct_recode(yes = \"1\", no = \"0\"),\n",
    "    class_prob = vec_pred_y\n",
    ")\n",
    "\n",
    "head(tbl_estimates)"
   ]
  },
  {
   "cell_type": "code",
   "execution_count": 19,
   "metadata": {},
   "outputs": [
    {
     "data": {
      "image/png": "[encoded data removed]",
      "text/plain": [
       "plot without title"
      ]
     },
     "metadata": {},
     "output_type": "display_data"
    }
   ],
   "source": [
    "plotROC(actuals = vec_test_y, predictedScores = vec_pred_y)"
   ]
  },
  {
   "cell_type": "code",
   "execution_count": 20,
   "metadata": {},
   "outputs": [
    {
     "data": {
      "image/png": "[encoded data removed]",
      "text/plain": [
       "plot without title"
      ]
     },
     "metadata": {},
     "output_type": "display_data"
    }
   ],
   "source": [
    "ks_plot(actuals = as.numeric(vec_test_y), predictedScores = vec_est_y)"
   ]
  },
  {
   "cell_type": "code",
   "execution_count": 21,
   "metadata": {},
   "outputs": [
    {
     "data": {
      "text/html": [
       "0.455033249855042"
      ],
      "text/latex": [
       "0.455033249855042"
      ],
      "text/markdown": [
       "0.455033249855042"
      ],
      "text/plain": [
       "[1] 0.4550332"
      ]
     },
     "metadata": {},
     "output_type": "display_data"
    }
   ],
   "source": [
    "optimalCutoff(vec_test_y, vec_pred_y)"
   ]
  },
  {
   "cell_type": "code",
   "execution_count": 22,
   "metadata": {},
   "outputs": [
    {
     "data": {
      "text/plain": [
       "          Truth\n",
       "Prediction   no  yes\n",
       "       no  1148  258\n",
       "       yes  126  226"
      ]
     },
     "metadata": {},
     "output_type": "display_data"
    }
   ],
   "source": [
    "tbl_estimates %>% conf_mat(truth, estimate)"
   ]
  },
  {
   "cell_type": "code",
   "execution_count": 25,
   "metadata": {},
   "outputs": [
    {
     "data": {
      "text/html": [
       "<table>\n",
       "<thead><tr><th scope=col>accuracy</th></tr></thead>\n",
       "<tbody>\n",
       "\t<tr><td>0.78157</td></tr>\n",
       "</tbody>\n",
       "</table>\n"
      ],
      "text/latex": [
       "\\begin{tabular}{r|l}\n",
       " accuracy\\\\\n",
       "\\hline\n",
       "\t 0.78157\\\\\n",
       "\\end{tabular}\n"
      ],
      "text/markdown": [
       "\n",
       "accuracy | \n",
       "|---|\n",
       "| 0.78157 | \n",
       "\n",
       "\n"
      ],
      "text/plain": [
       "  accuracy\n",
       "1 0.78157 "
      ]
     },
     "metadata": {},
     "output_type": "display_data"
    }
   ],
   "source": [
    "# Accuracy\n",
    "tbl_estimates %>% metrics(truth, estimate)"
   ]
  },
  {
   "cell_type": "code",
   "execution_count": 26,
   "metadata": {},
   "outputs": [
    {
     "data": {
      "text/html": [
       "<table>\n",
       "<thead><tr><th scope=col>precision</th><th scope=col>recall</th></tr></thead>\n",
       "<tbody>\n",
       "\t<tr><td>0.6420455</td><td>0.4669421</td></tr>\n",
       "</tbody>\n",
       "</table>\n"
      ],
      "text/latex": [
       "\\begin{tabular}{r|ll}\n",
       " precision & recall\\\\\n",
       "\\hline\n",
       "\t 0.6420455 & 0.4669421\\\\\n",
       "\\end{tabular}\n"
      ],
      "text/markdown": [
       "\n",
       "precision | recall | \n",
       "|---|\n",
       "| 0.6420455 | 0.4669421 | \n",
       "\n",
       "\n"
      ],
      "text/plain": [
       "  precision recall   \n",
       "1 0.6420455 0.4669421"
      ]
     },
     "metadata": {},
     "output_type": "display_data"
    }
   ],
   "source": [
    "# Precision\n",
    "tibble(\n",
    "    precision = tbl_estimates %>% precision(truth, estimate),\n",
    "    recall    = tbl_estimates %>% recall(truth, estimate)\n",
    ")"
   ]
  },
  {
   "cell_type": "code",
   "execution_count": null,
   "metadata": {},
   "outputs": [],
   "source": []
  },
  {
   "cell_type": "code",
   "execution_count": null,
   "metadata": {},
   "outputs": [],
   "source": [
    "vec_pred_y <- predict(opt_model, dtest)"
   ]
  },
  {
   "cell_type": "code",
   "execution_count": null,
   "metadata": {},
   "outputs": [],
   "source": [
    "plotROC(actuals = vec_test_y, predictedScores = vec_pred_y)"
   ]
  },
  {
   "cell_type": "code",
   "execution_count": null,
   "metadata": {},
   "outputs": [],
   "source": [
    "ks_plot(actuals = as.numeric(vec_test_y), predictedScores = vec_pred_y)"
   ]
  },
  {
   "cell_type": "code",
   "execution_count": null,
   "metadata": {},
   "outputs": [],
   "source": [
    "optimalCutoff(vec_test_y, vec_pred_y)"
   ]
  },
  {
   "cell_type": "code",
   "execution_count": 33,
   "metadata": {},
   "outputs": [],
   "source": [
    "library(corrr)\n",
    "library(tidyquant)"
   ]
  }
 ],
 "metadata": {
  "kernelspec": {
   "display_name": "R",
   "language": "R",
   "name": "ir"
  },
  "language_info": {
   "codemirror_mode": "r",
   "file_extension": ".r",
   "mimetype": "text/x-r-source",
   "name": "R",
   "pygments_lexer": "r",
   "version": "3.5.1"
  }
 },
 "nbformat": 4,
 "nbformat_minor": 2
}
